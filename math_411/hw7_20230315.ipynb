{
 "cells": [
  {
   "cell_type": "code",
   "execution_count": 1,
   "id": "e3463105",
   "metadata": {},
   "outputs": [],
   "source": [
    "import numpy as np\n",
    "from sympy import Matrix"
   ]
  },
  {
   "cell_type": "markdown",
   "id": "ec1383ad",
   "metadata": {},
   "source": [
    "**1.Find the Jordan normal form of teh following matrices.**"
   ]
  },
  {
   "cell_type": "markdown",
   "id": "c64475b6",
   "metadata": {},
   "source": [
    "$\n",
    "(a)\n",
    "\\begin{pmatrix}\n",
    "1 & 1 & 1\\\\\n",
    "0 & 1 & 0\\\\\n",
    "0 & 0 & 1\\\\\n",
    "\\end{pmatrix}\n",
    "$\n",
    "\n",
    "The eigencvalues are along the diagonal. \n",
    "\n",
    "$$\n",
    "P_A(x) = (x-1)^3\n",
    "$$\n",
    "\n",
    "Now we find...\n",
    "$$\n",
    "dimKer(A - I)^3 = 3\\\\\n",
    "dimKer(A - I)^2 = 3\\\\\n",
    "dimKer(A - I) = 2\n",
    "$$"
   ]
  },
  {
   "cell_type": "markdown",
   "id": "4c9a3396",
   "metadata": {},
   "source": [
    "Showing my work...\n",
    "$$\n",
    "dimKer(A - I)^3 = 2 \\\\\n",
    "dimKer(\n",
    "\\begin{pmatrix}\n",
    "0 & 1 & 1\\\\\n",
    "0 & 0 & 0\\\\\n",
    "0 & 0 & 0\\\\\n",
    "\\end{pmatrix}\n",
    ")\n",
    "$$"
   ]
  },
  {
   "cell_type": "code",
   "execution_count": 4,
   "id": "844e0e5e",
   "metadata": {},
   "outputs": [
    {
     "data": {
      "text/plain": [
       "array([[0, 0, 0],\n",
       "       [0, 0, 0],\n",
       "       [0, 0, 0]])"
      ]
     },
     "execution_count": 4,
     "metadata": {},
     "output_type": "execute_result"
    }
   ],
   "source": [
    "a = np.array([[ 0,  1, 1], \n",
    "              [ 0,  0, 0],\n",
    "              [ 0,  0, 0]])\n",
    "\n",
    "np.matmul(a,a)"
   ]
  },
  {
   "cell_type": "markdown",
   "id": "496a793d",
   "metadata": {},
   "source": [
    "\n",
    "So this matrix contains a single length two chain and one length one chain. The minimal polynomial is $(x - 1)^2$\n",
    "\n",
    "$$\n",
    "\\begin{pmatrix}\n",
    "1 & 1 & 0 \\\\\n",
    "0 & 1 & 0 \\\\\n",
    "0 & 0 & 1\n",
    "\\end{pmatrix}\n",
    "$$"
   ]
  },
  {
   "cell_type": "markdown",
   "id": "95271524",
   "metadata": {},
   "source": [
    "Checking the jordan form using phyon."
   ]
  },
  {
   "cell_type": "code",
   "execution_count": 11,
   "id": "f71156a4",
   "metadata": {},
   "outputs": [
    {
     "data": {
      "text/latex": [
       "$\\displaystyle \\left[\\begin{matrix}1 & 1 & 0\\\\0 & 1 & 0\\\\0 & 0 & 1\\end{matrix}\\right]$"
      ],
      "text/plain": [
       "Matrix([\n",
       "[1, 1, 0],\n",
       "[0, 1, 0],\n",
       "[0, 0, 1]])"
      ]
     },
     "execution_count": 11,
     "metadata": {},
     "output_type": "execute_result"
    }
   ],
   "source": [
    "a = np.array([[ 1,  1, 1], \n",
    "              [ 0,  1, 0],\n",
    "              [ 0,  0, 1]])\n",
    "m = Matrix(a)\n",
    "p, j = m.jordan_form()\n",
    "j"
   ]
  },
  {
   "cell_type": "markdown",
   "id": "dc433570",
   "metadata": {},
   "source": [
    "$\n",
    "(b)\n",
    "\\begin{pmatrix}\n",
    "-1 & -1 &  0 \\\\\n",
    " 0 & -1 & -2 \\\\\n",
    " 0 &  0 & -1 \\\\\n",
    "\\end{pmatrix}\n",
    "$"
   ]
  },
  {
   "cell_type": "markdown",
   "id": "d06d17bc",
   "metadata": {},
   "source": [
    "Again, the eigenvalues are along the diagonal. The characteristic equation is...\n",
    "$$\n",
    "P_A(x) = (x + 1)^3\n",
    "$$\n",
    "\n",
    "\n",
    "Now we find...\n",
    "$$\n",
    "dimKer(A + I)^3 = 3\\\\\n",
    "dimKer(A + I)^2 = 2\\\\\n",
    "dimKer(A + I) = 1\n",
    "$$"
   ]
  },
  {
   "cell_type": "code",
   "execution_count": 33,
   "id": "9b12b868",
   "metadata": {},
   "outputs": [
    {
     "data": {
      "text/plain": [
       "array([[0, 0, 2],\n",
       "       [0, 0, 0],\n",
       "       [0, 0, 0]])"
      ]
     },
     "execution_count": 33,
     "metadata": {},
     "output_type": "execute_result"
    }
   ],
   "source": [
    "a = np.array([[ 0, -1,  0], \n",
    "              [ 0, 0,  -2],\n",
    "              [ 0,  0,  0]])\n",
    "\n",
    "np.matmul(a, a)"
   ]
  },
  {
   "cell_type": "code",
   "execution_count": 34,
   "id": "e89980e9",
   "metadata": {},
   "outputs": [
    {
     "data": {
      "text/plain": [
       "array([[0, 0, 0],\n",
       "       [0, 0, 0],\n",
       "       [0, 0, 0]])"
      ]
     },
     "execution_count": 34,
     "metadata": {},
     "output_type": "execute_result"
    }
   ],
   "source": [
    "b = np.matmul(a, a)\n",
    "np.matmul(b, a)"
   ]
  },
  {
   "cell_type": "markdown",
   "id": "6acac470",
   "metadata": {},
   "source": [
    "So this matrix contains a single three chain. The minimal polynomial is $(x + 1)^3$ and the jordan form is....\n",
    "\n",
    "\\begin{pmatrix}\n",
    "-1 &  1 & 0 \\\\\n",
    " 0 & -1 & 1 \\\\\n",
    " 0 &  0 & -1\n",
    "\\end{pmatrix}"
   ]
  },
  {
   "cell_type": "markdown",
   "id": "fa559ec8",
   "metadata": {},
   "source": [
    "checking my answer with python...."
   ]
  },
  {
   "cell_type": "code",
   "execution_count": 37,
   "id": "562e1458",
   "metadata": {},
   "outputs": [
    {
     "data": {
      "text/latex": [
       "$\\displaystyle \\left[\\begin{matrix}-1 & 1 & 0\\\\0 & -1 & 1\\\\0 & 0 & -1\\end{matrix}\\right]$"
      ],
      "text/plain": [
       "Matrix([\n",
       "[-1,  1,  0],\n",
       "[ 0, -1,  1],\n",
       "[ 0,  0, -1]])"
      ]
     },
     "execution_count": 37,
     "metadata": {},
     "output_type": "execute_result"
    }
   ],
   "source": [
    "a = np.array([[-1, -1,  0], \n",
    "              [ 0, -1, -2],\n",
    "              [ 0,  0, -1]])\n",
    "m = Matrix(a)\n",
    "p, j = m.jordan_form()\n",
    "j"
   ]
  },
  {
   "cell_type": "markdown",
   "id": "ea83a0e5",
   "metadata": {},
   "source": [
    "$$\n",
    "(c)\n",
    "\\begin{pmatrix}\n",
    "  0 &   1 &   0 &  0 \\\\\n",
    " 11 &   6 &  -4 & -4 \\\\\n",
    " 22 &  15 &  -8 & -9 \\\\\n",
    " -3 &  -2 &   1 &  2 \\\\\n",
    "\\end{pmatrix} \n",
    "\\\\\n",
    "det(\n",
    "\\begin{pmatrix}\n",
    " \\lambda &   -1 &   0 &  0 \\\\\n",
    " -11 &   \\lambda - 6 &  4 & 4 \\\\\n",
    " -22 &  -15 &  \\lambda + 8 & 9 \\\\\n",
    " 3 &  2 &   -1 &  \\lambda - 2 \\\\\n",
    "\\end{pmatrix}\n",
    ")\n",
    "$$"
   ]
  },
  {
   "cell_type": "markdown",
   "id": "0834d3d4",
   "metadata": {},
   "source": [
    "Here we will do my favorate. Co-factor expansion to find $P_A(x)$"
   ]
  },
  {
   "cell_type": "markdown",
   "id": "65803654",
   "metadata": {},
   "source": [
    "$$\n",
    "-1 *\n",
    "det(\n",
    "\\begin{pmatrix}\n",
    " -11 &  4           & 4 \\\\\n",
    " -22 &  \\lambda + 8 & 9 \\\\\n",
    "   3 &   -1         &  \\lambda - 2 \\\\\n",
    "\\end{pmatrix}\n",
    ")\n",
    "$$\n",
    "\n",
    "$$\n",
    "\\lambda * \n",
    "det(\n",
    "\\begin{pmatrix}\n",
    "\\lambda - 6 &  4           & 4 \\\\\n",
    "-15         &  \\lambda + 8 & 9 \\\\\n",
    "  2         &   -1         &  \\lambda - 2 \\\\\n",
    "\\end{pmatrix}\n",
    ")\n",
    "$$"
   ]
  },
  {
   "cell_type": "markdown",
   "id": "3f668ea4",
   "metadata": {},
   "source": [
    "This is painful. I will just use python. "
   ]
  },
  {
   "cell_type": "code",
   "execution_count": 45,
   "id": "212734dd",
   "metadata": {
    "scrolled": true
   },
   "outputs": [
    {
     "data": {
      "text/latex": [
       "$\\displaystyle \\left[\\begin{matrix}-1 & 1 & 0 & 0\\\\0 & -1 & 0 & 0\\\\0 & 0 & 1 & 1\\\\0 & 0 & 0 & 1\\end{matrix}\\right]$"
      ],
      "text/plain": [
       "Matrix([\n",
       "[-1,  1, 0, 0],\n",
       "[ 0, -1, 0, 0],\n",
       "[ 0,  0, 1, 1],\n",
       "[ 0,  0, 0, 1]])"
      ]
     },
     "execution_count": 45,
     "metadata": {},
     "output_type": "execute_result"
    }
   ],
   "source": [
    "a = np.array([[  0,  1,  0,  0], \n",
    "              [ 11,  6, -4, -4],\n",
    "              [ 22, 15, -8, -9],\n",
    "              [ -3, -2,  1,  2]])\n",
    "m = Matrix(a)\n",
    "p, j = m.jordan_form()\n",
    "j"
   ]
  },
  {
   "cell_type": "markdown",
   "id": "7180d2c2",
   "metadata": {},
   "source": [
    "**2. For each of the matrices in the previous problem, find a formula for the matrix you get by raising it to the $n^{th}$ power.** "
   ]
  },
  {
   "cell_type": "markdown",
   "id": "c0b61459",
   "metadata": {},
   "source": [
    "To find a formula for each matrix above raised to the nth power I would find their jordan normal form (which I have), the rais that to the nth power. So...\n",
    "\n",
    "$$\n",
    "J = X^{-1} J X \\\\\n",
    "J^2 = X^{-1} J^n X X^{-1} J^n X \\\\\n",
    "J^2 = X^{-1} J^2 X \\\\\n",
    "...\\\\\n",
    "J^n = X^{-1} J^n X\n",
    "$$\n",
    "\n",
    "A the very least the characteristic polynomial is easy to find. The eigenvectors stay the same, but the eigenvalues are raised to the nth power. \n",
    "\n",
    "$$\n",
    "(a) \n",
    "P_{A^n}(x) = (x - 1^n)^2\n",
    "$$\n",
    "\n",
    "$$\n",
    "(b) \n",
    "P_{A^n}(x) = (x + 1^n)^3\n",
    "$$\n",
    "\n",
    "Did some googleing and looked back at the notes. The general form of a Jordan block isas follows...\n",
    "\n",
    "$$\n",
    "J_k(\\lambda)^n = \n",
    "\\begin{pmatrix}\n",
    "\\lambda^n & \\binom{n}{1} \\lambda^{n-1} & \\binom{n}{2}\\lambda^{n-2} & ...       & \\binom{n}{k-1}\\lambda^{n-k+1} \\\\\n",
    "          &  \\lambda^n      & \\binom{n}{1}\\lambda^n  & ...       & \\binom{n}{k-2}\\lambda^{n-k+2} \\\\\n",
    "          &               & ...           & ...       & ...             \\\\\n",
    "          &               &               & \\lambda^n & \\binom{n}{1}\\lambda^{n-1}   \\\\\n",
    "          &               &               &           & \\lambda^n       \\\\\n",
    "\\end{pmatrix}\n",
    "$$\n",
    "\n",
    "For (a) we have two blocks. 1 and (1,1,0,1). The single 1 block is easy. That's 1.\n",
    "For the 2x2 block we get...\n",
    "\n",
    "$$\n",
    "J_k(\\lambda)^n = \n",
    "\\begin{pmatrix}\n",
    "\\lambda^n & \\binom{n}{1} \\lambda^{n-1} \\\\\n",
    "          &  \\lambda^n                  \\\\\n",
    "\\end{pmatrix}\n",
    "=\n",
    "\\begin{pmatrix}\n",
    "1 & \\binom{n}{1} 1^{n-1}\\\\\n",
    "0 & 1\\\\\n",
    "\\end{pmatrix}\n",
    "=\n",
    "\\begin{pmatrix}\n",
    "1 & 1 + n-1\\\\\n",
    "0 & 1\\\\\n",
    "\\end{pmatrix}\n",
    "$$\n",
    "\n",
    "The complete jordan form matrix is...\n",
    "$$\n",
    "J(\\lambda) =\n",
    "\\begin{pmatrix}\n",
    "1 & 1 + n-1 & 0\\\\\n",
    "0 & 1       & 0\\\\\n",
    "0 & 0       & 1\n",
    "\\end{pmatrix}\n",
    "$$\n",
    "\n"
   ]
  },
  {
   "cell_type": "markdown",
   "id": "4c0408e0",
   "metadata": {},
   "source": [
    "For (b) we have a single three by three block with only the -1 eigenvalue. \n",
    "\n",
    "Using the jordan block general form we get the equation for $A^n$. \n",
    "\n",
    "$$\n",
    "J(\\lambda)^n = \n",
    "\\begin{pmatrix}\n",
    "\\lambda^n & \\binom{n}{1} \\lambda^{n-1} & \\binom{n}{2}\\lambda^{n-2}\\\\\n",
    "          &  \\lambda^n                 & \\binom{n}{1}\\lambda^n    \\\\\n",
    "          &                            &  \\lambda^n               \\\\\n",
    "\\end{pmatrix}\n",
    "=\n",
    "\\begin{pmatrix}\n",
    "-1^n & \\binom{n}{1}(-1)^{n-1} & \\binom{n}{2}(-1)^{n-2}\\\\\n",
    "          &  -1^n                 & \\binom{n}{1}(-1)^n    \\\\\n",
    "          &                            &  (-1)^n               \\\\\n",
    "\\end{pmatrix}\n",
    "$$\n"
   ]
  },
  {
   "cell_type": "markdown",
   "id": "a47c6684",
   "metadata": {},
   "source": [
    "For (c) we have two 2x2 blocks. One for -1 eigenvalue and one for the 1 eigenvalue.\n",
    "\n",
    "$$\n",
    "J_k(1)^n = \n",
    "\\begin{pmatrix}\n",
    "1 & \\binom{n}{1} 1^{n-1} \\\\\n",
    "          &  1           \\\\\n",
    "\\end{pmatrix}\n",
    "$$\n",
    "\n",
    "$$\n",
    "J_k(-1)^n = \n",
    "\\begin{pmatrix}\n",
    "(-1)^n & \\binom{n}{1} (-1)^{n-1} \\\\\n",
    "          &  (-1)^n                 \\\\\n",
    "\\end{pmatrix}\n",
    "$$\n",
    "\n",
    "The complete jordan amtrix is...\n",
    "\n",
    "$$\n",
    "J(\\lambda)^n = \n",
    "\\begin{pmatrix}\n",
    "(-1)^n & \\binom{n}{1} (-1)^{n-1} \\\\\n",
    "          &  (-1)^n              \\\\\n",
    "&& 1 & \\binom{n}{1} 1^{n-1} \\\\\n",
    "&&           &  1           \\\\\n",
    "\\end{pmatrix}\n",
    "$$\n",
    "\n"
   ]
  },
  {
   "cell_type": "markdown",
   "id": "7b2e66c2",
   "metadata": {},
   "source": [
    "**3. Let A be a matrix such that $pA(x) = x^4(x − 1)^2(x − 3)^6$.   \n",
    "Suppose that...   \n",
    "$\\text{dimKer}(A^4) = 5$ I'm changing this to 4 not 5.    \n",
    "$\\text{dimKer}(A^3) = 3$  \n",
    "$\\text{dimKer}(A^2) = 2$  \n",
    "$\\text{dimKer}(A) = 1$  \n",
    "$\\text{dimKer}(A − I)^2 = 2$  \n",
    "$\\text{dimKer}(A − I) = 2$  \n",
    "$\\text{dimKer}(A − 3I)^6 = 6$   \n",
    "$\\text{dimKer}(A −3I)^5 = 6$  \n",
    "$\\text{dimKer}(A − 3I)^4 = 6$   \n",
    "$\\text{dimKer}(A − 3I)^3 = 6$  \n",
    "$\\text{dimKer}(A − 3I)^2 = 5$  \n",
    "$\\text{dimKer}(A − 3I) = 3$   \n",
    "Find the Jordan normal form of A.**"
   ]
  },
  {
   "cell_type": "markdown",
   "id": "4cc7ac5e",
   "metadata": {},
   "source": [
    "So we have a 12 x 12 matrix. \n",
    "Fill in the eigenvalues...\n",
    "$$\n",
    "J =\n",
    "\\begin{pmatrix}\n",
    "0 & 0 & 0 & 0 & 0 & 0 & 0 & 0 & 0 & 0 & 0 & 0 \\\\\n",
    "0 & 0 & 0 & 0 & 0 & 0 & 0 & 0 & 0 & 0 & 0 & 0 \\\\\n",
    "0 & 0 & 0 & 0 & 0 & 0 & 0 & 0 & 0 & 0 & 0 & 0 \\\\\n",
    "0 & 0 & 0 & 0 & 0 & 0 & 0 & 0 & 0 & 0 & 0 & 0 \\\\\n",
    "0 & 0 & 0 & 0 & 1 & 0 & 0 & 0 & 0 & 0 & 0 & 0 \\\\\n",
    "0 & 0 & 0 & 0 & 0 & 1 & 0 & 0 & 0 & 0 & 0 & 0 \\\\\n",
    "0 & 0 & 0 & 0 & 0 & 0 & 3 & 0 & 0 & 0 & 0 & 0 \\\\\n",
    "0 & 0 & 0 & 0 & 0 & 0 & 0 & 3 & 0 & 0 & 0 & 0 \\\\\n",
    "0 & 0 & 0 & 0 & 0 & 0 & 0 & 0 & 3 & 0 & 0 & 0 \\\\\n",
    "0 & 0 & 0 & 0 & 0 & 0 & 0 & 0 & 0 & 3 & 0 & 0 \\\\\n",
    "0 & 0 & 0 & 0 & 0 & 0 & 0 & 0 & 0 & 0 & 3 & 0 \\\\\n",
    "0 & 0 & 0 & 0 & 0 & 0 & 0 & 0 & 0 & 0 & 0 & 3 \\\\\n",
    "\\end{pmatrix}\n",
    "$$\n",
    "\n",
    "now fill in the chains using 1's. \n",
    "There's one length 4 chain for \\lambda = 0. \n",
    "There's two length 1 chain for \\lambda = 1. \n",
    "There's three chains for $\\lambda = 3$, one of length 1, one of length 2, and one of thength 3.   \n",
    "\n",
    "$$\n",
    "J =\n",
    "\\begin{pmatrix}\n",
    "0 & 1 & 0 & 0 & 0 & 0 & 0 & 0 & 0 & 0 & 0 & 0 \\\\\n",
    "0 & 0 & 1 & 0 & 0 & 0 & 0 & 0 & 0 & 0 & 0 & 0 \\\\\n",
    "0 & 0 & 0 & 1 & 0 & 0 & 0 & 0 & 0 & 0 & 0 & 0 \\\\\n",
    "0 & 0 & 0 & 0 & 0 & 0 & 0 & 0 & 0 & 0 & 0 & 0 \\\\\n",
    "0 & 0 & 0 & 0 & 1 & 0 & 0 & 0 & 0 & 0 & 0 & 0 \\\\\n",
    "0 & 0 & 0 & 0 & 0 & 1 & 0 & 0 & 0 & 0 & 0 & 0 \\\\\n",
    "0 & 0 & 0 & 0 & 0 & 0 & 3 & 1 & 0 & 0 & 0 & 0 \\\\\n",
    "0 & 0 & 0 & 0 & 0 & 0 & 0 & 3 & 1 & 0 & 0 & 0 \\\\\n",
    "0 & 0 & 0 & 0 & 0 & 0 & 0 & 0 & 3 & 0 & 0 & 0 \\\\\n",
    "0 & 0 & 0 & 0 & 0 & 0 & 0 & 0 & 0 & 3 & 1 & 0 \\\\\n",
    "0 & 0 & 0 & 0 & 0 & 0 & 0 & 0 & 0 & 0 & 3 & 0 \\\\\n",
    "0 & 0 & 0 & 0 & 0 & 0 & 0 & 0 & 0 & 0 & 0 & 3 \\\\\n",
    "\\end{pmatrix}\n",
    "$$"
   ]
  },
  {
   "cell_type": "markdown",
   "id": "0584b08e",
   "metadata": {},
   "source": [
    "**4. An $n × n$ matrix $A$ is said to have finite order if there exists $k > 0$ such\n",
    "that $A^k = In$. Show that if we are working over the field $C$, every finite order\n",
    "matrix is diagonalizable.**"
   ]
  },
  {
   "cell_type": "markdown",
   "id": "b500263d",
   "metadata": {},
   "source": [
    "To show $A$ is invertible we will to show that it has $n$ independent eigenvectors and eigenvalues. \n",
    "A matrix is independent iff it has linearly independent eigenvectors, and all unique eigenvalues, with no eigenvalues being 0. \n",
    "\n",
    "Oof i was working to proive invertibility, not diagonalizability.  \n",
    "All invertible matrixes are diagonalizable? No. Eigenvalues of 0 can show up in diagonal matrix's. \n",
    "No, I'm just showing eigenvectors are independent, meaning they have unique eigenvalues, and the \n",
    "matrix A can be diagonalized. \n",
    "\n",
    "\n",
    "Let $a_1 ... a_n$ be scalars where $a \\in \\mathbb{C}$, and $v_1...v_n$ be the eigenvectors of $A$.   \n",
    "\n",
    "We must show that when $A^k = I_n$ for $k>0$ we have...  \n",
    "$a_1 v_1 + a_2 v_2 +...+a_nv_n = 0$\n",
    "only when $a_1 = a_2 = ...=a_n = 0$  \n",
    "If we have unique eigenvectors, then we must have unique eigenvalues.  \n",
    "If we have unique eigenvalues then we have a diagonalizable matrix.   \n",
    "\n",
    "Suppose for contradicion that...\n",
    "\n",
    "Multiplly both sides by $A$.\n",
    "Keep multiplying both sides by $A$. \n",
    "\n",
    "Let's say it's invertable."
   ]
  },
  {
   "cell_type": "markdown",
   "id": "ab8c7416",
   "metadata": {},
   "source": [
    "For contradiction lets supose $a_1 v_1 + a_2 v_2 +...+a_nv_n = 0$ when $a_1 \\not= a_2 \\not= ...\\not= a_n \\not= 0$ "
   ]
  },
  {
   "cell_type": "markdown",
   "id": "61d5129c",
   "metadata": {},
   "source": [
    "Note. I'm thinking of doing a proof by contracdiction and using the knowledge that $A^k = I_n$"
   ]
  },
  {
   "cell_type": "markdown",
   "id": "06d1d159",
   "metadata": {},
   "source": [
    "Starting over and taking a new approuch. \n",
    "\n",
    "Lets put $A^k$ into jordan form, call it $J(\\lambda)^k$. $A^k = In$, means $A$ is invertible and has no 0 eigenvalues. Then the Jordan blocks of $A$, call them $B(\\lambda)$ are, $B_m(\\lambda)^k = I_m$.  \n",
    "So then...\n",
    "$$\n",
    "A^k = X^{-1} J^k X\n",
    "$$\n",
    "and \n",
    "$$\n",
    "A^k = I_n\n",
    "$$\n",
    "which is already in jordan normal form, so...\n",
    "\n",
    "$$\n",
    "J^k = I_n\n",
    "$$\n",
    "\n",
    "We need to show that m = 1 for all jordan blocks in the jordan neomal form of $A$. \n"
   ]
  },
  {
   "cell_type": "markdown",
   "id": "b42aac33",
   "metadata": {},
   "source": [
    "Raising $J^k$ to the $k^{th}$ power does not change the size of the blocks in $J$. So the block sizes in $J^k$ are equal to the block sizes in $J$. The block sizes in $J^k$ are all one, because $J^k$ is the identity matrix. So the block sies in $J$ are all one. Aditionaly, $J$ is the jordan normal form of A. \n",
    "\n",
    "$$\n",
    "A = X^{-1}JX\n",
    "$$\n",
    "\n",
    "So then $J$ can be represented as the diagonal matrix of A, call it $\\Lambda$, because J is a diagonal matrix with the eigenvalues $\\lambda$ of A along it's diagonal. So then..\n",
    "\n",
    "$$\n",
    "A = X^{-1}JX = X^{-1} \\Lambda X \n",
    "$$\n",
    "\n",
    "Therefore A, any finite dimensional matrix, is diagonalizable. $\\blacksquare$"
   ]
  },
  {
   "cell_type": "markdown",
   "id": "f96c724a",
   "metadata": {},
   "source": [
    "Recall that for any real number x, $e^x = \\Sigma_{i=0}^{\\inf} \\frac{1}{i!} x^i$ .  \n",
    "\n",
    "We can define a similar operation for matrices, which is useful in many areas of mathematics. \n",
    "If A is an nxn matrix, then $e^A = = \\Sigma_{i=0}^{\\inf} \\frac{1}{i!} A^i$. \n"
   ]
  },
  {
   "cell_type": "markdown",
   "id": "b4d131e8",
   "metadata": {},
   "source": [
    "**(a) If A is a diagonal matrix with the numbers $λ_1, λ_2,..., λ_k$ on the diagonal, explain why $e^A$ is a diagonal matrix with the numbers $e^{λ_1}, . . . , e^{λ_k}$\n",
    "on the diagonal.**"
   ]
  },
  {
   "cell_type": "markdown",
   "id": "39a783cb",
   "metadata": {},
   "source": [
    "$$ \n",
    "e ^ A = \\Sigma_{i=0}^{\\inf} \\frac{1}{i!} A^i\n",
    "$$\n",
    "Lets open $A$ and carry out some arithmatic...\n",
    "$$ \n",
    "\\Sigma_{i=0}^{\\inf} \n",
    "\\frac{1}{i!} \n",
    "\\begin{pmatrix}\n",
    "\\lambda_1 & ... & ... & 0 \\\\\n",
    "        0 & \\lambda_2 & ... & 0 \\\\\n",
    "        0 & ... & ... & 0\\\\\n",
    "        0 & ... & ... & \\lambda_k\n",
    "\\end{pmatrix}^i\n",
    "\\\\\n",
    "\\Sigma_{i=0}^{\\inf}  \n",
    "\\begin{pmatrix}\n",
    "\\frac{1}{i!} \\lambda_1^i & ... & ... & 0 \\\\\n",
    "        0 & \\frac{1}{i!} \\lambda_2^i & ... & 0 \\\\\n",
    "        0 & ... & ... & 0\\\\\n",
    "        0 & ... & ... & \\frac{1}{i!} \\lambda_k^i\n",
    "\\end{pmatrix}\n",
    "$$\n",
    "Similarly the sum caries out during matrix adition...\n",
    "$$\n",
    "\\begin{pmatrix}\n",
    "\\Sigma_{i=0}^{\\inf} \\frac{1}{i!} \\lambda_1^i & ... & ... & 0 \\\\\n",
    "        0 & \\Sigma_{i=0}^{\\inf} \\frac{1}{i!} \\lambda_2^i & ... & 0 \\\\\n",
    "        0 & ... & ... & 0\\\\\n",
    "        0 & ... & ... & \\Sigma_{i=0}^{\\inf} \\frac{1}{i!} \\lambda_k^i\n",
    "\\end{pmatrix}\n",
    "$$\n",
    "Each element along the diagonal now equals $e^{\\lambda_1},...,e^{\\lambda_k}$, so...\n",
    "$$\n",
    "e^A\n",
    "=\n",
    "\\begin{pmatrix}\n",
    "e^{\\lambda_1} & ... & ... & 0 \\\\\n",
    "        0 & e^{\\lambda_2} & ... & 0 \\\\\n",
    "        0 & ... & ... & 0\\\\\n",
    "        0 & ... & ... & e^{\\lambda_k}\n",
    "\\end{pmatrix}\n",
    "\\\\\n",
    "\\blacksquare{}\n",
    "$$\n",
    "\n",
    "\n"
   ]
  },
  {
   "cell_type": "markdown",
   "id": "e3435916",
   "metadata": {},
   "source": [
    "**(b) If $A$ is an $n × n$ matrix with $λ$’s on the diagonal and 1’s on the off\n",
    "diagonal, explain how to calculate $e^A$.**"
   ]
  },
  {
   "cell_type": "markdown",
   "id": "893f5f4e",
   "metadata": {},
   "source": [
    "\n",
    "$$\n",
    "e^A = \\Sigma_{i=0}^{\\inf} \\frac{1}{i!} A^i\n",
    "$$\n",
    "\n",
    "\n",
    "$$\n",
    "A = \n",
    "\\begin{pmatrix}\n",
    "\\lambda_1 & 1 & ... & 0 \\\\\n",
    "        0 & \\lambda_2 & 1 & 0 \\\\\n",
    "        0 & ... & ... & 0\\\\\n",
    "        0 & ... & ... & \\lambda_k\n",
    "\\end{pmatrix}\n",
    "$$\n",
    "Assuming 1's run the entire off diagonal, thenm $A$ is a jordan matrix of one block.  \n",
    "So raising it to a power should be easy. We us the structure...\n",
    "\n",
    "$$\n",
    "J^i_k = \n",
    "\\begin{pmatrix}\n",
    "\\lambda^1 & \\binom{i}{1} \\lambda^{i-1} & \\binom{i}{2}\\lambda^{i-2} & ...       & \\binom{i}{n-1}\\lambda^{i-n+1} \\\\\n",
    "          &  \\lambda^2      & \\binom{i}{1}\\lambda^i  & ...       & \\binom{i}{n-2}\\lambda^{i-n+2} \\\\\n",
    "          &               & ...           & ...       & ...             \\\\\n",
    "          &               &               & \\lambda^{k-1} & \\binom{i}{1}\\lambda^{i-1}   \\\\\n",
    "          &               &               &           & \\lambda^k       \\\\\n",
    "\\end{pmatrix}\n",
    "$$\n",
    "\n",
    "furthermore, $A$ is already in jordan form so we don't need to use the $X^{-1}$ and $X$ matrixes. \n"
   ]
  },
  {
   "cell_type": "markdown",
   "id": "d0748d7a",
   "metadata": {},
   "source": [
    "We jump straight to....\n",
    "$$\n",
    "e^A = \n",
    "\\begin{pmatrix}\n",
    "e^{\\lambda_1} & \\binom{i}{1} \\lambda^{i-1} & \\binom{i}{2}\\lambda^{i-2} & ...       & \\binom{i}{n-1}\\lambda^{i-n+1} \\\\\n",
    "          &  e^{\\lambda_1}    & \\binom{i}{1}\\lambda^i  & ...       & \\binom{i}{n-2}\\lambda^{i-n+2} \\\\\n",
    "          &               & ...           & ...       & ...             \\\\\n",
    "          &               &               & e^{\\lambda_1}& \\binom{i}{1}\\lambda^{i-1}   \\\\\n",
    "          &               &               &           & e^{\\lambda_1}       \\\\\n",
    "\\end{pmatrix}\n",
    "$$"
   ]
  },
  {
   "cell_type": "markdown",
   "id": "0b204b3d",
   "metadata": {},
   "source": [
    "I'm not sure how to simplify what's going on above the diagonal. \n",
    "I have not carried out the multiplication, and I want to represent it in the form of $e^\\lambda$ "
   ]
  },
  {
   "cell_type": "markdown",
   "id": "ab2d7983",
   "metadata": {},
   "source": [
    "**(c) if $B = X^{−1} AX$, explain why $e^B = X^{−1} e^A X$.**"
   ]
  },
  {
   "cell_type": "markdown",
   "id": "b66dc915",
   "metadata": {},
   "source": [
    "$$ \n",
    "e^B = \\Sigma_{i=0}^{\\inf} \\frac{1}{i!} B^i\n",
    "$$\n",
    "substitute $X^{-1} A X$ for $B$, and expand...\n",
    "\n",
    "$$ \n",
    "e^B = \\Sigma_{i=0}^{\\inf} \\frac{1}{i!} (X^{-1} A X)^i \\\\\n",
    "= \\Sigma_{i=0}^{\\inf} \\frac{1}{i!} X^{-1} A^i X\n",
    "$$\n",
    "now the expansion of the sum...\n",
    "$$\n",
    "= \\frac{1}{0!} X^{-1} A^0 X +...+ \\frac{1}{\\inf!} X^{-1} A^\\inf X\n",
    "$$\n",
    "pull $X^{-1}$ out of the sum...\n",
    "$$\n",
    "= X^{-1} (\\frac{1}{0!} A^0 X +...+ \\frac{1}{\\inf!} A^\\inf X)\n",
    "$$\n",
    "\n",
    "bring the sum back down to earth...\n",
    "$$\n",
    "= X^{-1} \\Sigma_{i=0}^{\\inf} \\frac{1}{i!} A^i X\n",
    "$$\n",
    "that middle part is $e^A$\n",
    "$$\n",
    "= X^{-1} e^A X \\\\\n",
    "\\blacksquare{}\n",
    "$$\n"
   ]
  },
  {
   "cell_type": "markdown",
   "id": "b6718a9e",
   "metadata": {},
   "source": [
    "**(d) sing Jordan normal form, explain how to calculate $e^A$ for any A.**"
   ]
  },
  {
   "cell_type": "markdown",
   "id": "3f541311",
   "metadata": {},
   "source": [
    "Any matrix $A$ can be written as $A = X^{-1} J X$ where $J$ is the jordan normal from of $A$, in some basis. \n",
    "\n",
    "So takig a similar aprouch as the last question, we get...\n",
    "\n",
    "$$ \n",
    "A^B = \\Sigma_{i=0}^{\\inf} \\frac{1}{i!} (X^{-1} J X)^i \\\\\n",
    "= \\Sigma_{i=0}^{\\inf} \\frac{1}{i!} X^{-1} J^i X\n",
    "$$\n",
    "pulling the matrix out of the sum as I did before. \n",
    "$$\n",
    "= X^{-1} \\Sigma_{i=0}^{\\inf} \\frac{1}{i!} J^i X \\\\\n",
    "e^A = X^{-1} e^J X\n",
    "$$\n",
    "\n",
    "So that's how we do it. "
   ]
  },
  {
   "cell_type": "markdown",
   "id": "b2a3bdd0",
   "metadata": {},
   "source": [
    "**(e) Let $A = \\begin{pmatrix}2 & 0 \\\\ 1 & 3 \\end{pmatrix}$. Calculate $e^A$**"
   ]
  },
  {
   "cell_type": "markdown",
   "id": "ddd10ac0",
   "metadata": {},
   "source": [
    "I never actually do this but will need to for a test I bet.  \n",
    "It's a diagonalizable matrix, so that simpliies things, making X easier to find."
   ]
  },
  {
   "cell_type": "markdown",
   "id": "7ce17fad",
   "metadata": {},
   "source": [
    "**6. Let $A = J_{m,λ}$ be the $m × m$ matrix defined in class, with with $λ$’s on the\n",
    "diagonal and 1’s on the off diagonal. Find examples of the following.**"
   ]
  },
  {
   "cell_type": "markdown",
   "id": "0c443c5a",
   "metadata": {},
   "source": [
    "**(a) m, λ where A 2 has a different Jordan normal form than A.**"
   ]
  },
  {
   "cell_type": "markdown",
   "id": "5f2143c6",
   "metadata": {},
   "source": [
    "Any matrix with eigenvalues not all equal to 1 or 0.   \n",
    "This will $make J^2 \\not= J$ because the eigenvalues will not be eaqual. "
   ]
  },
  {
   "cell_type": "markdown",
   "id": "5d258ff7",
   "metadata": {},
   "source": [
    "**(b) m, λ where A 2 has the same Jordan normal form as A.**"
   ]
  },
  {
   "cell_type": "markdown",
   "id": "7ae5a837",
   "metadata": {},
   "source": [
    "observe the identity matrix, $I$. "
   ]
  },
  {
   "cell_type": "markdown",
   "id": "10515867",
   "metadata": {},
   "source": []
  },
  {
   "cell_type": "markdown",
   "id": "3170906a",
   "metadata": {},
   "source": []
  },
  {
   "cell_type": "markdown",
   "id": "e964a2f9",
   "metadata": {},
   "source": []
  },
  {
   "cell_type": "markdown",
   "id": "fe7e126a",
   "metadata": {},
   "source": []
  },
  {
   "cell_type": "markdown",
   "id": "ddf94994",
   "metadata": {},
   "source": []
  },
  {
   "cell_type": "markdown",
   "id": "0e6f7507",
   "metadata": {},
   "source": []
  },
  {
   "cell_type": "markdown",
   "id": "5aeec9a2",
   "metadata": {},
   "source": []
  },
  {
   "cell_type": "markdown",
   "id": "8ad86dd9",
   "metadata": {},
   "source": []
  },
  {
   "cell_type": "markdown",
   "id": "d49d709a",
   "metadata": {},
   "source": []
  },
  {
   "cell_type": "markdown",
   "id": "c3c4396f",
   "metadata": {},
   "source": []
  },
  {
   "cell_type": "markdown",
   "id": "53de9e8c",
   "metadata": {},
   "source": []
  },
  {
   "cell_type": "markdown",
   "id": "38f6255e",
   "metadata": {},
   "source": []
  },
  {
   "cell_type": "markdown",
   "id": "b72d9514",
   "metadata": {},
   "source": []
  },
  {
   "cell_type": "markdown",
   "id": "8d16e6cc",
   "metadata": {},
   "source": []
  },
  {
   "cell_type": "markdown",
   "id": "b486c93f",
   "metadata": {},
   "source": []
  },
  {
   "cell_type": "markdown",
   "id": "79499465",
   "metadata": {},
   "source": []
  }
 ],
 "metadata": {
  "kernelspec": {
   "display_name": "Python 3 (ipykernel)",
   "language": "python",
   "name": "python3"
  },
  "language_info": {
   "codemirror_mode": {
    "name": "ipython",
    "version": 3
   },
   "file_extension": ".py",
   "mimetype": "text/x-python",
   "name": "python",
   "nbconvert_exporter": "python",
   "pygments_lexer": "ipython3",
   "version": "3.9.15"
  }
 },
 "nbformat": 4,
 "nbformat_minor": 5
}
