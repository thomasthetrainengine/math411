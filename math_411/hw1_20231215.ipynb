{
 "cells": [
  {
   "cell_type": "markdown",
   "id": "c7fd4225",
   "metadata": {},
   "source": [
    "**James Ash**  \n",
    "**Homework 1**"
   ]
  },
  {
   "cell_type": "code",
   "execution_count": 37,
   "id": "89f3588d",
   "metadata": {},
   "outputs": [],
   "source": [
    "# setup packages\n",
    "import numpy as np\n",
    "from numpy.linalg import norm, det, inv, solve\n",
    "from numpy import arccos, dot, transpose\n",
    "import sympy"
   ]
  },
  {
   "cell_type": "markdown",
   "id": "4f9b0ea4",
   "metadata": {},
   "source": [
    "## Question 1"
   ]
  },
  {
   "cell_type": "markdown",
   "id": "bf5a2376",
   "metadata": {},
   "source": [
    "**Problem:** Consider the game we described in class that involved clicking on points on\n",
    "a grid. There are three colors (red, green, blue), and clicking on a square in\n",
    "the grid cycles the colors of that square and every other square in its row and\n",
    "column. Suppose the game was played on a 3 × 3 grid instead of a 2 × 2. Can\n",
    "you start with an all red configuration and end with a configuration where the\n",
    "first column is blue, the second column is red, and the third column is green?"
   ]
  },
  {
   "cell_type": "markdown",
   "id": "295dcdd2",
   "metadata": {},
   "source": [
    "*Answer:* Let B be a 3X3 matrix with the elements in each cell being one of the colors red (0), green (1), or blue (2) and each cell indexed as indexed as $a_1 - a_9$. For question 1, B is a matrix of containing only 0 because all elements start as red."
   ]
  },
  {
   "cell_type": "markdown",
   "id": "76ed392d",
   "metadata": {},
   "source": [
    "$$\n",
    "B = \\begin{pmatrix}\n",
    "0 & 0 & 0\\\\\n",
    "0 & 0 & 0\\\\\n",
    "0 & 0 & 0\n",
    "\\end{pmatrix}\n",
    "$$"
   ]
  },
  {
   "cell_type": "markdown",
   "id": "c395f9d2",
   "metadata": {},
   "source": [
    "and $B$'s index..."
   ]
  },
  {
   "cell_type": "markdown",
   "id": "0999139f",
   "metadata": {},
   "source": [
    "\n",
    "$$\n",
    "\\text{Index of} B = \\begin{pmatrix}\n",
    "b_1 & b_2 & b_3\\\\\n",
    "b_4 & b_5 & b_6\\\\\n",
    "b_7 & b_8 & b_9\n",
    "\\end{pmatrix}\n",
    "$$"
   ]
  },
  {
   "cell_type": "markdown",
   "id": "4f81903c",
   "metadata": {},
   "source": [
    "We then construct a matrix A from the 9 column vectors, $a_1 - a_9$, each representing what would happen if we \"pressed\" cells $b_1 - b_9$ once. An example of the first column of matrix A is given below... \n",
    "\n",
    "$$\n",
    "a_1 = \\begin{pmatrix}\n",
    "b_1\\\\\n",
    "b_2\\\\ \n",
    "b_3\\\\\n",
    "b_4\\\\ \n",
    "b_5\\\\\n",
    "b_6\\\\\n",
    "b_7\\\\\n",
    "b_8\\\\\n",
    "b_9\n",
    "\\end{pmatrix}\n",
    "= \n",
    "\\begin{pmatrix}\n",
    "1\\\\\n",
    "1\\\\ \n",
    "0\\\\\n",
    "1\\\\ \n",
    "0\\\\\n",
    "0\\\\\n",
    "0\\\\\n",
    "0\\\\\n",
    "0\n",
    "\\end{pmatrix}\n",
    "$$"
   ]
  },
  {
   "cell_type": "code",
   "execution_count": 3,
   "id": "98709441",
   "metadata": {},
   "outputs": [
    {
     "data": {
      "text/latex": [
       "$\\displaystyle \\left[\\begin{matrix}1 & 1 & 0 & 1 & 0 & 0 & 0 & 0 & 0\\\\1 & 1 & 1 & 0 & 1 & 0 & 0 & 0 & 0\\\\0 & 1 & 1 & 0 & 0 & 1 & 0 & 0 & 0\\\\1 & 0 & 0 & 1 & 1 & 0 & 1 & 0 & 0\\\\0 & 1 & 0 & 1 & 1 & 1 & 0 & 1 & 0\\\\0 & 0 & 1 & 0 & 1 & 1 & 0 & 0 & 1\\\\0 & 0 & 0 & 1 & 0 & 0 & 1 & 1 & 0\\\\0 & 0 & 0 & 0 & 1 & 0 & 1 & 1 & 1\\\\0 & 0 & 0 & 0 & 0 & 1 & 0 & 1 & 1\\end{matrix}\\right]$"
      ],
      "text/plain": [
       "Matrix([\n",
       "[1, 1, 0, 1, 0, 0, 0, 0, 0],\n",
       "[1, 1, 1, 0, 1, 0, 0, 0, 0],\n",
       "[0, 1, 1, 0, 0, 1, 0, 0, 0],\n",
       "[1, 0, 0, 1, 1, 0, 1, 0, 0],\n",
       "[0, 1, 0, 1, 1, 1, 0, 1, 0],\n",
       "[0, 0, 1, 0, 1, 1, 0, 0, 1],\n",
       "[0, 0, 0, 1, 0, 0, 1, 1, 0],\n",
       "[0, 0, 0, 0, 1, 0, 1, 1, 1],\n",
       "[0, 0, 0, 0, 0, 1, 0, 1, 1]])"
      ]
     },
     "execution_count": 3,
     "metadata": {},
     "output_type": "execute_result"
    }
   ],
   "source": [
    "A = sympy.Matrix([[1,1,0,1,0,0,0,0,0], \n",
    "                  [1,1,1,0,1,0,0,0,0], \n",
    "                  [0,1,1,0,0,1,0,0,0], \n",
    "                  [1,0,0,1,1,0,1,0,0],\n",
    "                  [0,1,0,1,1,1,0,1,0],\n",
    "                  [0,0,1,0,1,1,0,0,1],\n",
    "                  [0,0,0,1,0,0,1,1,0],\n",
    "                  [0,0,0,0,1,0,1,1,1],\n",
    "                  [0,0,0,0,0,1,0,1,1]])\n",
    "A"
   ]
  },
  {
   "cell_type": "markdown",
   "id": "65b30f87",
   "metadata": {},
   "source": [
    "Vector **b**, of $Ax = b$, represents the desired end state of $B$, where the first column is blue (2), the second column is red (0), and the third column is green (1). The vector **x** represents the number of times to \"press\" each element of B. We construct **b** as follows..."
   ]
  },
  {
   "cell_type": "code",
   "execution_count": 4,
   "id": "fe813b58",
   "metadata": {},
   "outputs": [
    {
     "data": {
      "text/latex": [
       "$\\displaystyle \\left[\\begin{matrix}2\\\\0\\\\1\\\\2\\\\0\\\\1\\\\2\\\\0\\\\1\\end{matrix}\\right]$"
      ],
      "text/plain": [
       "Matrix([\n",
       "[2],\n",
       "[0],\n",
       "[1],\n",
       "[2],\n",
       "[0],\n",
       "[1],\n",
       "[2],\n",
       "[0],\n",
       "[1]])"
      ]
     },
     "execution_count": 4,
     "metadata": {},
     "output_type": "execute_result"
    }
   ],
   "source": [
    "b = sympy.Matrix([[2],\n",
    "                  [0],\n",
    "                  [1],\n",
    "                  [2],\n",
    "                  [0],\n",
    "                  [1],\n",
    "                  [2],\n",
    "                  [0],\n",
    "                  [1]])\n",
    "b"
   ]
  },
  {
   "cell_type": "markdown",
   "id": "13e3d34c",
   "metadata": {},
   "source": [
    "We will find **b** using the inverse of $A$. I'm using the sympy packages inv_mod(x) function to do so. \n",
    "\n",
    "First I'm checking that the code works by performing $A A^{-1} = I$."
   ]
  },
  {
   "cell_type": "code",
   "execution_count": 9,
   "id": "016c763e",
   "metadata": {},
   "outputs": [
    {
     "data": {
      "text/latex": [
       "$\\displaystyle \\left[\\begin{matrix}1 & 0 & 0 & 0 & 0 & 0 & 0 & 0 & 0\\\\0 & 1 & 0 & 0 & 0 & 0 & 0 & 0 & 0\\\\0 & 0 & 1 & 0 & 0 & 0 & 0 & 0 & 0\\\\0 & 0 & 0 & 1 & 0 & 0 & 0 & 0 & 0\\\\0 & 0 & 0 & 0 & 1 & 0 & 0 & 0 & 0\\\\0 & 0 & 0 & 0 & 0 & 1 & 0 & 0 & 0\\\\0 & 0 & 0 & 0 & 0 & 0 & 1 & 0 & 0\\\\0 & 0 & 0 & 0 & 0 & 0 & 0 & 1 & 0\\\\0 & 0 & 0 & 0 & 0 & 0 & 0 & 0 & 1\\end{matrix}\\right]$"
      ],
      "text/plain": [
       "Matrix([\n",
       "[1, 0, 0, 0, 0, 0, 0, 0, 0],\n",
       "[0, 1, 0, 0, 0, 0, 0, 0, 0],\n",
       "[0, 0, 1, 0, 0, 0, 0, 0, 0],\n",
       "[0, 0, 0, 1, 0, 0, 0, 0, 0],\n",
       "[0, 0, 0, 0, 1, 0, 0, 0, 0],\n",
       "[0, 0, 0, 0, 0, 1, 0, 0, 0],\n",
       "[0, 0, 0, 0, 0, 0, 1, 0, 0],\n",
       "[0, 0, 0, 0, 0, 0, 0, 1, 0],\n",
       "[0, 0, 0, 0, 0, 0, 0, 0, 1]])"
      ]
     },
     "execution_count": 9,
     "metadata": {},
     "output_type": "execute_result"
    }
   ],
   "source": [
    "# just a check\n",
    "I = A * A.inv_mod(3)\n",
    "#for mod 3. In matlab the % symbol begins a comment, but in python it puts arithmatic in Z/xZ\n",
    "I % 3 "
   ]
  },
  {
   "cell_type": "markdown",
   "id": "d31446eb",
   "metadata": {},
   "source": [
    "**Solving the Ax = b equation using the inverse of A**"
   ]
  },
  {
   "cell_type": "code",
   "execution_count": 14,
   "id": "f4b1ce1a",
   "metadata": {
    "scrolled": true
   },
   "outputs": [
    {
     "data": {
      "text/latex": [
       "$\\displaystyle \\left[\\begin{matrix}0\\\\0\\\\0\\\\2\\\\0\\\\1\\\\0\\\\0\\\\0\\end{matrix}\\right]$"
      ],
      "text/plain": [
       "Matrix([\n",
       "[0],\n",
       "[0],\n",
       "[0],\n",
       "[2],\n",
       "[0],\n",
       "[1],\n",
       "[0],\n",
       "[0],\n",
       "[0]])"
      ]
     },
     "execution_count": 14,
     "metadata": {},
     "output_type": "execute_result"
    }
   ],
   "source": [
    "x = (A.inv_mod(3) * b) % 3\n",
    "x"
   ]
  },
  {
   "cell_type": "markdown",
   "id": "3397b7d9",
   "metadata": {},
   "source": [
    "**Cheking the solution by recaluclating b using $A x = b$**"
   ]
  },
  {
   "cell_type": "code",
   "execution_count": 16,
   "id": "95cb7fdc",
   "metadata": {
    "scrolled": true
   },
   "outputs": [
    {
     "data": {
      "text/latex": [
       "$\\displaystyle \\left[\\begin{matrix}2\\\\0\\\\1\\\\2\\\\0\\\\1\\\\2\\\\0\\\\1\\end{matrix}\\right]$"
      ],
      "text/plain": [
       "Matrix([\n",
       "[2],\n",
       "[0],\n",
       "[1],\n",
       "[2],\n",
       "[0],\n",
       "[1],\n",
       "[2],\n",
       "[0],\n",
       "[1]])"
      ]
     },
     "execution_count": 16,
     "metadata": {},
     "output_type": "execute_result"
    }
   ],
   "source": [
    "b = A*x %3\n",
    "b"
   ]
  },
  {
   "cell_type": "markdown",
   "id": "513f05be",
   "metadata": {},
   "source": [
    "Looks good to me. "
   ]
  },
  {
   "cell_type": "markdown",
   "id": "c0b61637",
   "metadata": {},
   "source": [
    "**Answer.**  By pressing $b_4$ twice and $b_6$ once of matrix $B$, we go from an an all red configuration and end with a configuration where the first column is blue, the second column is red, and the third column is green.  "
   ]
  },
  {
   "cell_type": "markdown",
   "id": "cc85bf6f",
   "metadata": {},
   "source": [
    "## Question 2"
   ]
  },
  {
   "cell_type": "markdown",
   "id": "4d9952e7",
   "metadata": {},
   "source": [
    "**Problem:** A game is played on a $7 \\times 7$ board. The board wraps around i.e. if a piece\n",
    "is situated on the rightmost column and moves one to the right, it ends up\n",
    "on the leftmost column. A piece on the top row that moves one up ends up\n",
    "on the bottom row. A piece is placed in the (1, 1) square. The pieces uses\n",
    "the knight move set from Chess (a knight can move in L shapes - two to the\n",
    "right and one down, two to to the right and one up, two up and one left, etc).\n",
    "Can the piece reach the (2, 2) square? If so, describe the moves it needs to\n",
    "do so. Hint: this is a linear algebra problem that requires solving a system of\n",
    "equations over the field $F_7$."
   ]
  },
  {
   "cell_type": "code",
   "execution_count": 27,
   "id": "e66b7b1f",
   "metadata": {},
   "outputs": [
    {
     "data": {
      "text/latex": [
       "$\\displaystyle \\left[\\begin{matrix}2 & 1 & -1 & -2\\\\1 & 2 & 2 & 1\\end{matrix}\\right]$"
      ],
      "text/plain": [
       "Matrix([\n",
       "[2, 1, -1, -2],\n",
       "[1, 2,  2,  1]])"
      ]
     },
     "execution_count": 27,
     "metadata": {},
     "output_type": "execute_result"
    }
   ],
   "source": [
    "A = sympy.Matrix([[2, 1, -1, -2], \n",
    "                  [1, 2,  2,  1]])\n",
    "A               "
   ]
  },
  {
   "cell_type": "markdown",
   "id": "547d9e87",
   "metadata": {},
   "source": [
    "I create vector **b** of $Ax =$ **b** by noting how many spaces are needed to move in the right and left direction traveling from space (1, 1) to space (2, 2). That is one poistive move in both the up/down direction and the righ/left direction, so **b** $ = (1, 1)$. Left and down are negative, right and up are positive. "
   ]
  },
  {
   "cell_type": "code",
   "execution_count": 28,
   "id": "1f7cd4c8",
   "metadata": {},
   "outputs": [
    {
     "data": {
      "text/latex": [
       "$\\displaystyle \\left[\\begin{matrix}1\\\\1\\end{matrix}\\right]$"
      ],
      "text/plain": [
       "Matrix([\n",
       "[1],\n",
       "[1]])"
      ]
     },
     "execution_count": 28,
     "metadata": {},
     "output_type": "execute_result"
    }
   ],
   "source": [
    "b = sympy.Matrix([1, 1])\n",
    "b"
   ]
  },
  {
   "cell_type": "markdown",
   "id": "b970fa63",
   "metadata": {},
   "source": [
    "$$\n",
    "A = \\begin{pmatrix}\n",
    "2 & 1 & -1 & -2\\\\\n",
    "1 & 2 &  2 &  1\n",
    "\\end{pmatrix}\n",
    "$$"
   ]
  },
  {
   "cell_type": "markdown",
   "id": "fc786b06",
   "metadata": {},
   "source": [
    "$$\n",
    "A = \\begin{pmatrix}\n",
    "1 & 2 & 2 & 1\\\\\n",
    "0 & 4 & 1 & 3\n",
    "\\end{pmatrix}\n",
    "$$"
   ]
  },
  {
   "cell_type": "markdown",
   "id": "fe700e94",
   "metadata": {},
   "source": [
    "$$\n",
    "A = \\begin{pmatrix}\n",
    "2 & 0 & 3 & 6\\\\\n",
    "0 & 4 & 1 & 3\n",
    "\\end{pmatrix}\n",
    "$$"
   ]
  },
  {
   "cell_type": "markdown",
   "id": "8696b4f1",
   "metadata": {},
   "source": [
    "Doing the same to **b**..."
   ]
  },
  {
   "cell_type": "markdown",
   "id": "d424f277",
   "metadata": {},
   "source": [
    "$$\n",
    "b = \\begin{pmatrix}\n",
    "3\\\\\n",
    "6 \n",
    "\\end{pmatrix}\n",
    "$$"
   ]
  },
  {
   "cell_type": "markdown",
   "id": "8867ea14",
   "metadata": {},
   "source": [
    "Then using back substitution we find $m_1 = 5$ and $m_2 = 5$, without the use of the other move types (setting them to 0). So move (1, 2) five times and move (2, 1) five times to land on coordinate (2,2) form coordinate (1,1). I checked this by walking throught he move and it works. Similarly here's a quick calculation..."
   ]
  },
  {
   "cell_type": "code",
   "execution_count": 29,
   "id": "fa304c29",
   "metadata": {},
   "outputs": [
    {
     "data": {
      "text/plain": [
       "array([[2],\n",
       "       [2]])"
      ]
     },
     "execution_count": 29,
     "metadata": {},
     "output_type": "execute_result"
    }
   ],
   "source": [
    "(np.array([[1], [1]]) + 5*np.array([[2], [1]]) + 5 * np.array([[1], [2]])) % 7"
   ]
  },
  {
   "cell_type": "markdown",
   "id": "b8556909",
   "metadata": {},
   "source": [
    "**Answer.** Anyway the answer is yes, the knight can move from space (1,1) to space (2,2) with a number of different solutions. It can be done with the two moves, (-1, 2) and (2,-1) or it can be done with the ten moves described above in the solution."
   ]
  },
  {
   "cell_type": "markdown",
   "id": "127793a9",
   "metadata": {},
   "source": [
    "## Question 3"
   ]
  },
  {
   "cell_type": "markdown",
   "id": "696fb09f",
   "metadata": {},
   "source": [
    "**Problem:** A circle passes through the points (2, 6), (−1, 7), (−4, −2). Find an equation for the circle (Hint: every circle can be written in the form $x^2 + y^2 + ax +\n",
    "by + c = 0$. Your variables should be a, b, c.)"
   ]
  },
  {
   "cell_type": "markdown",
   "id": "e20b9282",
   "metadata": {},
   "source": [
    "This is similar to how I would set up the equation to solve for a linear regression only now the equation is $x^2 + y^2 + ax + by + c = 0$ instead of $y = mx + b$. To set up $Ax = b$, I sum $x^2$ and $y^2$, then carry them over to **b**, so that **x** = $(a, b, c)$. "
   ]
  },
  {
   "cell_type": "markdown",
   "id": "9f703e04",
   "metadata": {},
   "source": [
    "Setting up matrix $A$ from points $(x_1, y_1)$, $(x_2, y_2)$, $(x_3, y_3)$..."
   ]
  },
  {
   "cell_type": "markdown",
   "id": "94ae5c7e",
   "metadata": {},
   "source": [
    "$$\n",
    "A = \n",
    "\\begin{pmatrix}\n",
    " x_1 &  y_1 & 1\\\\\n",
    " x_2 &  y_2 & 1\\\\\n",
    " x_3 &  y_3 & 1\n",
    "\\end{pmatrix}\n",
    "=\n",
    "\\begin{pmatrix}\n",
    "2  &  6 & 1\\\\\n",
    "-1 &  7 & 1\\\\\n",
    "-4 & -2 & 1\n",
    "\\end{pmatrix}  \n",
    "$$"
   ]
  },
  {
   "cell_type": "markdown",
   "id": "bd97c1a3",
   "metadata": {},
   "source": [
    "now settin uping vector **b** from the sum of $x^2$ and $y^2$..."
   ]
  },
  {
   "cell_type": "markdown",
   "id": "76cc4378",
   "metadata": {},
   "source": [
    "$$\n",
    "b = \\begin{pmatrix}\n",
    "-(x_1^2 + y_1^2)\\\\\n",
    "-(x_2^2 + y_2^2)\\\\\n",
    "-(x_3^2 + y_3^2)\n",
    "\\end{pmatrix}\n",
    "$$"
   ]
  },
  {
   "cell_type": "markdown",
   "id": "d03c582b",
   "metadata": {},
   "source": [
    "vector **x** is a vector of the cooeficients to solve for, $a, b$ and $c$."
   ]
  },
  {
   "cell_type": "markdown",
   "id": "d5add824",
   "metadata": {},
   "source": [
    "$$\n",
    "x = \\begin{pmatrix}\n",
    "a\\\\\n",
    "b\\\\\n",
    "c\n",
    "\\end{pmatrix}\n",
    "$$ "
   ]
  },
  {
   "cell_type": "markdown",
   "id": "f50a6f07",
   "metadata": {},
   "source": [
    "Putting it into code to solve..."
   ]
  },
  {
   "cell_type": "code",
   "execution_count": 25,
   "id": "a2a98e8b",
   "metadata": {},
   "outputs": [],
   "source": [
    "A = np.array([[ 2,  6, 1], \n",
    "              [-1,  7, 1],\n",
    "              [-4, -2, 1]])\n",
    "\n",
    "b = np.array([[-40],\n",
    "              [-43],\n",
    "              [-20]])\n",
    "\n",
    "x = np.array([\"a\", \"b\", \"c\"])"
   ]
  },
  {
   "cell_type": "markdown",
   "id": "5ff9297a",
   "metadata": {},
   "source": [
    "$A$ is now invertable and I can use $A^{-1}$ to solve $Ax = b$. I'm transitioning from R to python (I used to use matlab), so I do it a few different ways that are close to the same just to make sure the code is right. Now I'm using the numpy package, which is suposed to be similar to matlab. For the previous questions I was using the sympy package.  "
   ]
  },
  {
   "cell_type": "code",
   "execution_count": 26,
   "id": "7a6ebb19",
   "metadata": {},
   "outputs": [
    {
     "data": {
      "text/plain": [
       "array([[  0.13333333],\n",
       "       [ -2.6       ],\n",
       "       [-24.66666667]])"
      ]
     },
     "execution_count": 26,
     "metadata": {},
     "output_type": "execute_result"
    }
   ],
   "source": [
    "# using multiplication of inverse A\n",
    "x = np.matmul(inv(A), b)\n",
    "x"
   ]
  },
  {
   "cell_type": "code",
   "execution_count": 27,
   "id": "5c6dc632",
   "metadata": {},
   "outputs": [
    {
     "data": {
      "text/plain": [
       "array([[  0.13333333],\n",
       "       [ -2.6       ],\n",
       "       [-24.66666667]])"
      ]
     },
     "execution_count": 27,
     "metadata": {},
     "output_type": "execute_result"
    }
   ],
   "source": [
    "# using the solve() function\n",
    "x = solve(A, b)\n",
    "x"
   ]
  },
  {
   "cell_type": "markdown",
   "id": "4133416f",
   "metadata": {},
   "source": [
    "Checking the solution to see if $Ax = b$."
   ]
  },
  {
   "cell_type": "code",
   "execution_count": 28,
   "id": "1f12f6d3",
   "metadata": {},
   "outputs": [
    {
     "data": {
      "text/plain": [
       "array([[-40.],\n",
       "       [-43.],\n",
       "       [-20.]])"
      ]
     },
     "execution_count": 28,
     "metadata": {},
     "output_type": "execute_result"
    }
   ],
   "source": [
    "# just multiplying A by x to get b back\n",
    "np.matmul(A , x)"
   ]
  },
  {
   "cell_type": "markdown",
   "id": "66fd3529",
   "metadata": {},
   "source": [
    "**Answer.** Looks good. There is only one solution to this problem so, even the numbers are kinda gross looking I get $a = 0.13, b = -2.6$, and $c = -24$ from the vector **x**.\n",
    "\n",
    "$$\n",
    "x = \n",
    "\\begin{pmatrix}\n",
    "a\\\\\n",
    "b\\\\\n",
    "c\n",
    "\\end{pmatrix}\n",
    "=\n",
    "\\begin{pmatrix}\n",
    " 0.13\\\\\n",
    "-2.6\\\\\n",
    "-24.6\\\\\n",
    "\\end{pmatrix}\n",
    "$$"
   ]
  },
  {
   "cell_type": "markdown",
   "id": "aacec0f4",
   "metadata": {},
   "source": [
    "## Question 4"
   ]
  },
  {
   "cell_type": "markdown",
   "id": "9384dc4e",
   "metadata": {},
   "source": [
    "A marketplace trades four different commodities: abacuses, bananas, crys-\n",
    "tals, and drums. You can trade 3 abacuses, 8 bananas, and four crystals for\n",
    "five drums. You can trade one crystal for three abacuses and four drums. You\n",
    "can trade one abacus and one drum for two bananas and a crystal. You can\n",
    "trade one abacus for two bananas and three crystals. A person comes to the\n",
    "market with one abacus. They left with five drums. What were the trades\n",
    "that they made?"
   ]
  },
  {
   "cell_type": "markdown",
   "id": "ba68a60e",
   "metadata": {},
   "source": [
    "I set up matrix $A$ so that each column represents a trade, denoted by the gain and lost of abacus (a), bananas (b), crystals (c), and drums (d) such that a trade vector **t** and trade coeficient $t_i$, looks like this... "
   ]
  },
  {
   "cell_type": "markdown",
   "id": "e7a6f0ac",
   "metadata": {},
   "source": [
    "$$\n",
    "trade = \n",
    "t_i\\begin{pmatrix}\n",
    "a\\\\\n",
    "b\\\\\n",
    "c\\\\\n",
    "d\\\\\n",
    "\\end{pmatrix}\n",
    "$$"
   ]
  },
  {
   "cell_type": "markdown",
   "id": "4c47533d",
   "metadata": {},
   "source": [
    "and the four trades, starting with one abacus and leaving with five drums looks like this..."
   ]
  },
  {
   "cell_type": "markdown",
   "id": "2a2eba98",
   "metadata": {},
   "source": [
    "$$\n",
    "\\begin{pmatrix}\n",
    "1\\\\\n",
    "0\\\\\n",
    "0\\\\\n",
    "0\\\\\n",
    "\\end{pmatrix}\n",
    "+\n",
    "t_1 \n",
    "\\begin{pmatrix}\n",
    "-3\\\\\n",
    "-8\\\\\n",
    "-4\\\\\n",
    "5\\\\\n",
    "\\end{pmatrix}\n",
    "+\n",
    "t_2 \n",
    "\\begin{pmatrix}\n",
    "3\\\\\n",
    " 0\\\\\n",
    "-1\\\\\n",
    "4\\\\\n",
    "\\end{pmatrix}\n",
    "+\n",
    "t_3\n",
    "\\begin{pmatrix}\n",
    "-1\\\\\n",
    " 2\\\\\n",
    "1\\\\\n",
    "-1\\\\\n",
    "\\end{pmatrix}\n",
    "+\n",
    "t_4\n",
    "\\begin{pmatrix}\n",
    "-1\\\\\n",
    " 2\\\\\n",
    "3\\\\\n",
    "0\\\\\n",
    "\\end{pmatrix}\n",
    "=\n",
    "\\begin{pmatrix}\n",
    "0\\\\\n",
    "0\\\\\n",
    "0\\\\\n",
    "5\\\\\n",
    "\\end{pmatrix}\n",
    "$$"
   ]
  },
  {
   "cell_type": "markdown",
   "id": "b2fb6098",
   "metadata": {},
   "source": [
    "moving the starting abacus to the other side we get..."
   ]
  },
  {
   "cell_type": "markdown",
   "id": "f40d5fe0",
   "metadata": {},
   "source": [
    "$$\n",
    "t_1 \n",
    "\\begin{pmatrix}\n",
    "-3\\\\\n",
    "-8\\\\\n",
    "-4\\\\\n",
    "5\\\\\n",
    "\\end{pmatrix}\n",
    "+\n",
    "t_2 \n",
    "\\begin{pmatrix}\n",
    "3\\\\\n",
    " 0\\\\\n",
    "-1\\\\\n",
    "4\\\\\n",
    "\\end{pmatrix}\n",
    "+\n",
    "t_3\n",
    "\\begin{pmatrix}\n",
    "-1\\\\\n",
    " 2\\\\\n",
    "1\\\\\n",
    "-1\\\\\n",
    "\\end{pmatrix}\n",
    "+\n",
    "t_4\n",
    "\\begin{pmatrix}\n",
    "-1\\\\\n",
    " 2\\\\\n",
    "3\\\\\n",
    "0\\\\\n",
    "\\end{pmatrix}\n",
    "=\n",
    "\\begin{pmatrix}\n",
    "0\\\\\n",
    "0\\\\\n",
    "0\\\\\n",
    "5\\\\\n",
    "\\end{pmatrix}\n",
    "-\n",
    "\\begin{pmatrix}\n",
    "1\\\\\n",
    "0\\\\\n",
    "0\\\\\n",
    "0\\\\\n",
    "\\end{pmatrix}\n",
    "= \n",
    "\\begin{pmatrix}\n",
    "-1\\\\\n",
    "0\\\\\n",
    "0\\\\\n",
    "5\\\\\n",
    "\\end{pmatrix}\n",
    "$$"
   ]
  },
  {
   "cell_type": "markdown",
   "id": "c5a765ea",
   "metadata": {},
   "source": [
    "So then the matrix $A$ and vectors **b**, and **x** in $Ax = b$ are..."
   ]
  },
  {
   "cell_type": "markdown",
   "id": "75fabaea",
   "metadata": {},
   "source": [
    "$$\n",
    "A =\n",
    "\\begin{pmatrix}\n",
    "-3 & 3 & -1 & -1\\\\\n",
    "-8 & 0 &  2 & 2\\\\\n",
    "-4 &-1 &  1 & 3\\\\\n",
    " 5 & 4 & -1 & 0\\\\\n",
    "\\end{pmatrix}\n",
    ", b = \n",
    "\\begin{pmatrix}\n",
    "-1\\\\\n",
    "0\\\\\n",
    "0\\\\\n",
    "5\\\\\n",
    "\\end{pmatrix}\n",
    ", x = \n",
    "\\begin{pmatrix}\n",
    "t_1\\\\\n",
    "t_2\\\\\n",
    "t_3\\\\\n",
    "t_4\\\\\n",
    "\\end{pmatrix}\n",
    "$$"
   ]
  },
  {
   "cell_type": "markdown",
   "id": "404b4a8a",
   "metadata": {},
   "source": [
    "putting it into code to solve..."
   ]
  },
  {
   "cell_type": "markdown",
   "id": "401ce9af",
   "metadata": {},
   "source": [
    "$$\n",
    "A =\n",
    "\\begin{pmatrix}\n",
    "-3 & 3 & -1 & -1\\\\\n",
    "-8 & 0 &  2 & 2\\\\\n",
    "-4 &-1 &  1 & 3\\\\\n",
    " 5 & 4 & -1 & 0\\\\\n",
    "\\end{pmatrix}\n",
    "$$"
   ]
  },
  {
   "cell_type": "code",
   "execution_count": 29,
   "id": "32cfd3b4",
   "metadata": {},
   "outputs": [],
   "source": [
    "A = np.array([[-3,  3, -1, -1], \n",
    "              [-8,  0,  2,  2],\n",
    "              [-4, -1,  1,  3],\n",
    "              [ 5,  4, -1,  0]])"
   ]
  },
  {
   "cell_type": "code",
   "execution_count": 30,
   "id": "5ffe2adc",
   "metadata": {},
   "outputs": [],
   "source": [
    "b = np.array([[-1],\n",
    "              [0],\n",
    "              [0],\n",
    "              [5]])"
   ]
  },
  {
   "cell_type": "code",
   "execution_count": 34,
   "id": "b5ab9bf9",
   "metadata": {},
   "outputs": [
    {
     "name": "stdout",
     "output_type": "stream",
     "text": [
      "[[0.56521739]\n",
      " [0.98550725]\n",
      " [1.76811594]\n",
      " [0.49275362]]\n"
     ]
    }
   ],
   "source": [
    "x = solve(A, b)\n",
    "print(x)"
   ]
  },
  {
   "cell_type": "code",
   "execution_count": 36,
   "id": "93fc8b7b",
   "metadata": {
    "scrolled": true
   },
   "outputs": [
    {
     "name": "stdout",
     "output_type": "stream",
     "text": [
      "[[-1.]\n",
      " [ 0.]\n",
      " [ 0.]\n",
      " [ 5.]]\n"
     ]
    }
   ],
   "source": [
    "# checking the solution by recalculating b\n",
    "print(np.matmul(A, x))"
   ]
  },
  {
   "cell_type": "markdown",
   "id": "0ae27052",
   "metadata": {},
   "source": [
    "**Answer.** So my solution is in fractions, shown below. I would also like to note that trades can be done in reverse, and debt can be taken on. The later is to ensure that addition is colmunative, and the former is to ensure that vectors can be subtracted. I can't spell to save my life."
   ]
  },
  {
   "cell_type": "markdown",
   "id": "f1329b6c",
   "metadata": {},
   "source": [
    "$$\n",
    "x = \n",
    "\\begin{pmatrix}\n",
    "t_1\\\\\n",
    "t_2\\\\\n",
    "t_3\\\\\n",
    "t_4\\\\\n",
    "\\end{pmatrix}\n",
    "=\n",
    "\\begin{pmatrix}\n",
    "0.56521739\\\\\n",
    "0.98550725\\\\\n",
    "1.76811594\\\\\n",
    "0.49275362\n",
    "\\end{pmatrix}\n",
    "$$"
   ]
  }
 ],
 "metadata": {
  "kernelspec": {
   "display_name": "Python 3 (ipykernel)",
   "language": "python",
   "name": "python3"
  },
  "language_info": {
   "codemirror_mode": {
    "name": "ipython",
    "version": 3
   },
   "file_extension": ".py",
   "mimetype": "text/x-python",
   "name": "python",
   "nbconvert_exporter": "python",
   "pygments_lexer": "ipython3",
   "version": "3.9.15"
  }
 },
 "nbformat": 4,
 "nbformat_minor": 5
}
