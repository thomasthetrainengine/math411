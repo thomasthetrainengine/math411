{
 "cells": [
  {
   "cell_type": "markdown",
   "id": "7d201df3",
   "metadata": {},
   "source": [
    "## 1. Divide the following polynomials with remainder."
   ]
  },
  {
   "cell_type": "markdown",
   "id": "b022211d",
   "metadata": {},
   "source": [
    "**(a) Divide $x^7 − x^3 + 1$ by $x^4 + x + 2$.**  \n",
    "\n",
    "$$\n",
    "\\frac{x^7 − x^3 + 1}{x^4 + x + 2} : x^3 \\\\\n",
    "\\frac{-x^4 − 3x^3 + 1}{x^4 + x + 2} : x^3 - 1 \\\\\n",
    "\\frac{3x^3 + x -2}{x^4 + x + 2} : x^3 - 1 \\\\\n",
    "\\text{remainder: } 3x^3 + x -2\n",
    "$$\n"
   ]
  },
  {
   "cell_type": "markdown",
   "id": "08ca6d23",
   "metadata": {},
   "source": [
    "**(b) Divide $x^8 − 1$ by $x + 1$.**\n",
    "\n",
    "$$\n",
    "\\frac{x^8 - 1}{x + 1} :x^3 \\\\\n",
    "\\frac{-x^7 - 1}{x + 1} :x^3 - x^6 \\\\\n",
    "\\frac{x^6 − 1}{x + 1} :x^3 - x^6 + x^5\\\\\n",
    "\\frac{-x^5 - 1}{x + 1} :x^3 - x^6 + x^5 - x^4\\\\\n",
    "\\frac{x^4 − 1}{x + 1} :x^3 - x^6 + x^5 - x^4 + x^3\\\\\n",
    "\\frac{-x^3 − 1}{x + 1} :x^3 - x^6 + x^5 - x^4 + x^3 - x^2\\\\\n",
    "\\frac{x^2 − 1}{x + 1} :x^3 - x^6 + x^5 - x^4 + x^3 - x^2 + x\\\\\n",
    "\\frac{x − 1}{x + 1} :x^3 - x^6 + x^5 - x^4 + x^3 - x^2 + x - 1\\\\\n",
    "\\text{remainder: } 0\n",
    "$$\n"
   ]
  },
  {
   "cell_type": "markdown",
   "id": "2c3e6ea6",
   "metadata": {},
   "source": [
    "**(c) Divide $x^3 + 2x^2 − 3x + 1$ by $x^2 + x − 1$.**\n",
    "\n",
    "$$\n",
    "\\frac{x^3 + 2x^2 − 3x + 1}{x^2 + x − 1} : x \\\\\n",
    "\\frac{x^2 + 2x − x}{x^2 + x − 1} : x + 1 \\\\\n",
    "\\text{remainder: } -3 + 2\n",
    "$$\n"
   ]
  },
  {
   "cell_type": "markdown",
   "id": "cdcd79dc",
   "metadata": {},
   "source": [
    "## 2. Find the minimal polynomials of the following matrices."
   ]
  },
  {
   "cell_type": "markdown",
   "id": "d22cb047",
   "metadata": {},
   "source": [
    "**(a)** \n",
    "A = \n",
    "$\n",
    "\\begin{pmatrix}\n",
    "5 & -1\\\\\n",
    "1 &  0\\\\\n",
    "\\end{pmatrix} \n",
    "$"
   ]
  },
  {
   "cell_type": "markdown",
   "id": "82688f04",
   "metadata": {},
   "source": [
    "I begin by finding the characteristic polynomial using $P_A(x) = det(x I - A)$ "
   ]
  },
  {
   "cell_type": "markdown",
   "id": "34b493cf",
   "metadata": {},
   "source": [
    "$$\n",
    "P_A(x) = \n",
    "det(\n",
    "\\begin{pmatrix}\n",
    "x & 0 \\\\\n",
    "0 & x\n",
    "\\end{pmatrix}\n",
    "-\n",
    "\\begin{pmatrix}\n",
    "5 & -1\\\\\n",
    "1 &  0\\\\\n",
    "\\end{pmatrix} \n",
    ")\n",
    "\\\\\n",
    "-x(5 - x) +1) \\\\\n",
    "P_A(x) = x^2 - 5x +1\n",
    "$$"
   ]
  },
  {
   "cell_type": "markdown",
   "id": "57380fac",
   "metadata": {},
   "source": [
    "To find the minimal polynomial from here, I can factor the polynomeial and solve for each degree of the polynomial and see if $P_A(A) = 0$ is true, but instead I compare the characteristic polynomial with the matrix $A$ reduced to the jorndan normal form. I do this using the numpy and sympy package below. "
   ]
  },
  {
   "cell_type": "code",
   "execution_count": 15,
   "id": "33e23ba5",
   "metadata": {},
   "outputs": [
    {
     "data": {
      "text/latex": [
       "$\\displaystyle \\left[\\begin{matrix}\\frac{5}{2} - \\frac{\\sqrt{21}}{2} & 0\\\\0 & \\frac{\\sqrt{21}}{2} + \\frac{5}{2}\\end{matrix}\\right]$"
      ],
      "text/plain": [
       "Matrix([\n",
       "[5/2 - sqrt(21)/2,                0],\n",
       "[               0, sqrt(21)/2 + 5/2]])"
      ]
     },
     "execution_count": 15,
     "metadata": {},
     "output_type": "execute_result"
    }
   ],
   "source": [
    "import numpy as np\n",
    "from sympy import Matrix\n",
    "a = np.array([[ 5,  -1], \n",
    "              [ 1,   0]])\n",
    "m = Matrix(a)\n",
    "p, j = m.jordan_form()\n",
    "j"
   ]
  },
  {
   "cell_type": "markdown",
   "id": "9d8deec0",
   "metadata": {},
   "source": [
    "So I can see the matrix is diagonalized with $\\frac{5 - \\sqrt{21}}{2}$ and $\\frac{\\sqrt{21} + 5}{2}$ as the roots of the characteristic polynomial (also the eigenvalues of $A$). These are two seperate 1x1 blocks meaning each root apears in the minimal polynomial. Then $(x - (\\frac{5 - \\sqrt{21}}{2}))(x - (\\frac{\\sqrt{21}}{2} + 5))$ or $x^2 - 5x + 1$ is the minimal polynomial of $A$. "
   ]
  },
  {
   "cell_type": "markdown",
   "id": "9857423f",
   "metadata": {},
   "source": [
    "**(b)**\n",
    "$\n",
    "A = \n",
    "\\begin{pmatrix}\n",
    " 0 &  1\\\\\n",
    "-1 &  2\\\\\n",
    "\\end{pmatrix} \n",
    "$"
   ]
  },
  {
   "cell_type": "markdown",
   "id": "93d571a3",
   "metadata": {},
   "source": [
    "$$\n",
    "P_A(x) = \n",
    "det(\n",
    "\\begin{pmatrix}\n",
    " x &  0\\\\\n",
    " 0 &  x\\\\\n",
    "\\end{pmatrix} \n",
    "-\n",
    "\\begin{pmatrix}\n",
    " 0 &  1\\\\\n",
    "-1 &  2\\\\\n",
    "\\end{pmatrix} \n",
    ")\n",
    "\\\\\n",
    "P_A(x) = (x - 1)(x-1)\n",
    "$$"
   ]
  },
  {
   "cell_type": "markdown",
   "id": "e9c66427",
   "metadata": {},
   "source": [
    "To find the minimal polynomial from here, I can factor the polynomeial and solve for each degree of the polynomial and see if $P_A(A) = 0$ is true, but instead I compare the characteristic polynomial with the matrix $A$ reduced to the jorndan normal form. I do this using the numpy and sympy package below. "
   ]
  },
  {
   "cell_type": "code",
   "execution_count": 17,
   "id": "fef262b9",
   "metadata": {},
   "outputs": [
    {
     "data": {
      "text/latex": [
       "$\\displaystyle \\left[\\begin{matrix}1 & 1\\\\0 & 1\\end{matrix}\\right]$"
      ],
      "text/plain": [
       "Matrix([\n",
       "[1, 1],\n",
       "[0, 1]])"
      ]
     },
     "execution_count": 17,
     "metadata": {},
     "output_type": "execute_result"
    }
   ],
   "source": [
    "import numpy as np\n",
    "from sympy import Matrix\n",
    "a = np.array([[ 0,  1], \n",
    "              [-1,  2]])\n",
    "m = Matrix(a)\n",
    "p, j = m.jordan_form()\n",
    "j"
   ]
  },
  {
   "cell_type": "markdown",
   "id": "524e7d11",
   "metadata": {},
   "source": [
    "So I can see the matrix is comprized of a single 2x2 block with the roots of the characteristic polynomial (also the eigenvalues of $A$) along the diagonal. A 2x2 block means root associated with that block apears in the minimal polynomial at degree 2. Then $(x-1)^2$ is the minimal polynomial of $A$. "
   ]
  },
  {
   "cell_type": "markdown",
   "id": "b1d56317",
   "metadata": {},
   "source": [
    "**(c)**\n",
    "A = \n",
    "$\n",
    "\\begin{pmatrix}\n",
    "1 &  1 & 0\\\\\n",
    "0 &  1 & 1\\\\\n",
    "0 &  0 & 1\\\\\n",
    "\\end{pmatrix} \n",
    "$"
   ]
  },
  {
   "cell_type": "markdown",
   "id": "b366703b",
   "metadata": {},
   "source": [
    "$$\n",
    "P_A(x) = \n",
    "det(\n",
    "\\begin{pmatrix}\n",
    "x &  0 & 0\\\\\n",
    "0 &  x & 0\\\\\n",
    "0 &  0 & x\\\\\n",
    "\\end{pmatrix} \n",
    "-\n",
    "\\begin{pmatrix}\n",
    "1 &  1 & 0\\\\\n",
    "0 &  1 & 1\\\\\n",
    "0 &  0 & 1\\\\\n",
    "\\end{pmatrix}\n",
    ")\n",
    "\\\\\n",
    "P_A(x) = (x-1)^3\n",
    "$$"
   ]
  },
  {
   "cell_type": "markdown",
   "id": "b52396ef",
   "metadata": {},
   "source": [
    "Here $A$ is already in jordan normal form i.e. upper triangular with 1's above the diagonal, and only a single unique eigenvalue per block. It is easy to see that the roots are all 1's, and that there is only a single 3x3 block. So the minmal polynomial is $m_A = (x-1)^3$"
   ]
  },
  {
   "cell_type": "markdown",
   "id": "9214127c",
   "metadata": {},
   "source": [
    "## 3. For every pair of non-constant polynomials *p*, *q* where *q* divides *p*, show how to find a matrix A whose characteristic polynomial is *p* and whose minimal polynomial is *q*."
   ]
  },
  {
   "cell_type": "markdown",
   "id": "9e885221",
   "metadata": {},
   "source": [
    "Let $b$ and $a$ be polynomials and $b|a$. We want to create a matrix $B \\in M_n(\\mathbb(C))$ that has the characteristic polynomial $a$ and minimal polynomial $a$.  \n",
    "\n",
    "**Housekeeping**   \n",
    "\n",
    "First let us represent $a$ and $b$ in there fully factored form, with like terms combined. \n",
    "\n",
    "$$\n",
    "a = (x - a_1)^{m_1}(x - a_2)^{m_2}...(x - a_r)^{m_r} \\\\ \n",
    "b = (x - b_1)^{m_1}(x - b_2)^{m_2}...(x - b_r)^{m_r}\n",
    "$$\n",
    "\n",
    "Here $\\{a_1,...,a_r\\}$ are the 0's of the roots of polynomial $a$, and represent the eigenvalues of matrix $B$. \n",
    "The same is true for $\\{b_1,...,b_r\\}$. The degree $m$ represents how many times the root have apeared in the characteristic and minimal polynomials, after being combined. The polynimial $b$ has the same roots as the polynomial $a$, only to different degrees $m$ (equal to or less than).\n",
    "\n",
    "**Constructin B**\n",
    "\n",
    "Let $B$ be in jordan normal form, so that it is upper triangular, eigenvalues along the diagonal, only 1's along above the idagonal, 0's elswehere, and non-unique eigenvalues within the same blocks. \n",
    "\n",
    "First, put the 0's of the roots of the polynomial $a$, $\\{a_1,...,a_r\\}$, along the diagonal of $B$. Repeating values are repeated along the idagonal $m$ times. Keeping the $m$ like terms next to one another along the diagonal of $B$. \n",
    "\n",
    "This will crete a matrix $B$, who's characteristic polynomial is $a$. As a $4x4$ example where the $a_1$ eigenvalue repeats once, B looks something like this... \n",
    "\n",
    "$$\n",
    "B = \n",
    "\\begin{pmatrix}\n",
    "a_1 &    * &   0 &   0\\\\\n",
    "0   &  a_1 &   * &   0\\\\\n",
    "0   &    0 & a_1 &   *\\\\\n",
    "0   &    0 &   0 & a_2\\\\\n",
    "\\end{pmatrix} \n",
    "$$\n",
    "\n",
    "The stars are place holders, the characteristic polynomial would look somehting like this...\n",
    "$$\n",
    "P_B(x) = \n",
    "(x - a_1)^3 (x-a_2)\n",
    "$$\n",
    "\n",
    "\n",
    "Now we want $B$ to have the minimal polynomial equal to $b$. We do this by creating blocks in the matrix $B$, by inputing 1's above the diagonals of certain elements in $\\{a_1,...,a_r\\}$.  \n",
    "\n",
    "For each root of $b$, we want to create a block in $B$ that has size $m \\times m$, where $m$ is the degree \n",
    "of the roots of $b$ that corespond to the eigenvalues within the block being created in $B$. Furthermore, we will not create and blocks with size greter than $m \\times m$ (this would make the degree of the minimal polynomial too large). \n",
    "\n",
    "To continue the above example, lets say that the minimal polynomial where $m_B = (x-b_1)^2(x-b_2)$, with the same charactersitic polynomial as stated before, $P_A(x) = (x - a_1)^3 (x-a_2)$. Then we would adjust the matrix $B$ by adding 1's above the diagonal as such...\n",
    "\n",
    "$$\n",
    "B = \n",
    "\\begin{pmatrix}\n",
    "a_1 &    1 &   0 &   0\\\\\n",
    "0   &  a_1 &   0 &   0\\\\\n",
    "0   &    0 & a_1 &   0\\\\\n",
    "0   &    0 &   0 & a_2\\\\\n",
    "\\end{pmatrix} \n",
    "$$\n",
    "\n",
    "This will create a matrix $B$ in jordan normal form that has the characteristic polynomial $P_A(x) = (x - a_1)^3 (x-a_2)$, and minimal polynomial $m_B = (x-b_1)^2(x-b_2)$. A little confusin, $b_1$,$b_2 = a_1$,$a_2$.\n",
    "\n",
    "\n",
    "In the general case, we can do this for all roots of the characteristic polynomial $a$ and roots of the minimal polynomial $b$. This will create a matrix $B$ that has the characteristic polynomial $a$ and minimal polynomial $b$. \n"
   ]
  },
  {
   "cell_type": "markdown",
   "id": "91b3b0cf",
   "metadata": {},
   "source": [
    "## 4. What’s wrong with the following \"proof\" f the Cayley Hamilton theorem: Let $A$ be an $n × n$ matrix. Then $p_A(A) = det(A − A) = det(0) = 0$. Where does the \"proof\" fail? Read the direct algebraic proof of the Cayley Hamilton theorem that appears in the wikipedia article about the theorem."
   ]
  },
  {
   "cell_type": "markdown",
   "id": "7d301b31",
   "metadata": {},
   "source": [
    "The given prove does not show that a matrix satisfies it's own characteristic polynomial, because the charactersitic polynomial is never found.\n",
    "\n",
    "The steps of the Cayley Hamilton therom given on Wikipedia are as follow..\n",
    "\n",
    "(1) Determine the charactersistic polynomial using $det(\\lambda I - A)$.\n",
    "\n",
    "(2) Define substitiution of the matric into the characteristic polynomial. \n",
    "\n",
    "(3) Show the result of substituting A into it's own characteristic polynomial results in the 0 matrix. \n",
    "\n",
    "The given proof skips step 1, and defines the substitution of A, before the characteristic polynomial is found. \n",
    "A red flag of the proof given is that $det(A- A) = 0$ is a scalar 0, not a matrix. The caley hamilpton therom states that the substitution of a matrix $A$ into it's own characteristic polynomial results in the zero matrix. So $P_A(A)$ is a matrix, and $det(A-A)$ is a scalar.   "
   ]
  },
  {
   "cell_type": "markdown",
   "id": "413ba153",
   "metadata": {},
   "source": [
    "## 5. We say that $B$ is a square root of $A$ if $B^2 = A$. Over the field $\\mathbb{C}$, show that the identity matrix has infinitely many square roots. Explain why each such root is diagonalizable."
   ]
  },
  {
   "cell_type": "markdown",
   "id": "f7ab93c6",
   "metadata": {},
   "source": []
  },
  {
   "cell_type": "markdown",
   "id": "ae12695e",
   "metadata": {},
   "source": []
  },
  {
   "cell_type": "markdown",
   "id": "46d927b5",
   "metadata": {},
   "source": []
  },
  {
   "cell_type": "markdown",
   "id": "2e5bc92c",
   "metadata": {},
   "source": []
  },
  {
   "cell_type": "markdown",
   "id": "1fe2b488",
   "metadata": {},
   "source": []
  },
  {
   "cell_type": "markdown",
   "id": "8a8f9617",
   "metadata": {},
   "source": []
  }
 ],
 "metadata": {
  "kernelspec": {
   "display_name": "Python 3 (ipykernel)",
   "language": "python",
   "name": "python3"
  },
  "language_info": {
   "codemirror_mode": {
    "name": "ipython",
    "version": 3
   },
   "file_extension": ".py",
   "mimetype": "text/x-python",
   "name": "python",
   "nbconvert_exporter": "python",
   "pygments_lexer": "ipython3",
   "version": "3.9.15"
  }
 },
 "nbformat": 4,
 "nbformat_minor": 5
}
