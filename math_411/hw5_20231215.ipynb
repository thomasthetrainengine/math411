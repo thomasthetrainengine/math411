{
 "cells": [
  {
   "cell_type": "markdown",
   "id": "5d9e651c",
   "metadata": {},
   "source": [
    "name: James Ash  \n",
    "date: 2023-02-17  \n",
    "assignment: HW 5"
   ]
  },
  {
   "cell_type": "markdown",
   "id": "2035474b",
   "metadata": {},
   "source": []
  },
  {
   "cell_type": "markdown",
   "id": "65fd0607",
   "metadata": {},
   "source": [
    "# Question 1."
   ]
  },
  {
   "cell_type": "markdown",
   "id": "db3b2008",
   "metadata": {},
   "source": [
    "Diagonalize the following matrices.\n",
    "\n",
    "$$ \n",
    "(a)\n",
    "\\begin{pmatrix}\n",
    "5 & 3\\\\\n",
    "3 & 2\\\\\n",
    "\\end{pmatrix} \n",
    "$$\n",
    "\n",
    "Set up $det(A-\\lambda I) = 0$ to find eigenvalues.\n",
    "\n",
    "$$ \n",
    "(a)\n",
    "det(\n",
    "\\begin{pmatrix}\n",
    "5 & 3\\\\\n",
    "3 & 2\\\\\n",
    "\\end{pmatrix} \n",
    "-\n",
    "\\lambda I)\n",
    "= \n",
    "0\n",
    "$$\n",
    "\n",
    "$$\n",
    "det\n",
    "\\begin{pmatrix}\n",
    "5-\\lambda & 3\\\\\n",
    "3         & 2 - \\lambda\\\\\n",
    "\\end{pmatrix}\n",
    "=\n",
    "0\n",
    "$$\n",
    "\n",
    "$$\n",
    "(5-\\lambda)(2 - \\lambda) - 9 = 0 \\\\\n",
    "10 - 5 \\lambda - 2 \\lambda + \\lambda^2 = 0\\\\\n",
    "\\lambda ^2 - 7\\lambda + 10 = 0\n",
    "$$"
   ]
  },
  {
   "cell_type": "markdown",
   "id": "33a0609a",
   "metadata": {},
   "source": [
    "$$\n",
    "x = \\frac{7 +- \\sqrt{7^2 - 4(1)10}}{2(1)} \\\\\n",
    "x = \\frac{7 +- \\sqrt{49 - 40}}{2} \\\\\n",
    "x = \\frac{7 +- 3}{2} \\\\\n",
    "x = 2 = \\lambda_1 \\\\\n",
    "x = 5 = \\lambda_2 \\\\\n",
    "$$\n"
   ]
  },
  {
   "cell_type": "markdown",
   "id": "29f51ee6",
   "metadata": {},
   "source": [
    "Plug those lambda's into $(A-\\lambda_i I)x_i = 0$\n",
    "\n",
    "$$ \n",
    "\\begin{pmatrix}\n",
    "5-\\lambda_1 & 3\\\\\n",
    "3           & 2-\\lambda_1\\\\\n",
    "\\end{pmatrix} \n",
    "x_1\n",
    "=\n",
    "0 \\\\\n",
    "\\begin{pmatrix}\n",
    "5-2 & 3\\\\\n",
    "3           & 2-2\\\\\n",
    "\\end{pmatrix} \n",
    "x_1\n",
    "=\n",
    "0 \\\\\n",
    "\\begin{pmatrix}\n",
    "3 & 3\\\\\n",
    "3 & 0\n",
    "\\end{pmatrix} \n",
    "x_1\n",
    "=\n",
    "0\\\\\n",
    "x_1 = \n",
    "\\begin{pmatrix}\n",
    "0\\\\\n",
    "0\n",
    "\\end{pmatrix}\n",
    "$$\n",
    "\n",
    "again...\n",
    "\n",
    "$$ \n",
    "\\begin{pmatrix}\n",
    "5-\\lambda_2 & 3\\\\\n",
    "3           & 2-\\lambda_2\\\\\n",
    "\\end{pmatrix} \n",
    "x_1\n",
    "=\n",
    "0 \\\\\n",
    "\\begin{pmatrix}\n",
    "5-5 & 3\\\\\n",
    "3           & 2-5\\\\\n",
    "\\end{pmatrix} \n",
    "x_1\n",
    "=\n",
    "0 \\\\\n",
    "\\begin{pmatrix}\n",
    "0 & 3\\\\\n",
    "3 & -3\n",
    "\\end{pmatrix} \n",
    "x_1\n",
    "=\n",
    "0\\\\\n",
    "x_2 = \n",
    "\\begin{pmatrix}\n",
    "0\\\\\n",
    "0\n",
    "\\end{pmatrix}\n",
    "$$\n",
    "\n",
    "\n",
    "Well I get the 0 vector twice, it does not feel right, I hope that is correct.\n"
   ]
  },
  {
   "cell_type": "markdown",
   "id": "0a254d95",
   "metadata": {},
   "source": [
    "$$ \n",
    "(b)\n",
    "\\begin{pmatrix}\n",
    "1 & 4\\\\\n",
    "1 & 5\\\\\n",
    "\\end{pmatrix} \n",
    "$$\n",
    "\n",
    "Set up $det(A-\\lambda I) = 0$ to find eigenvalues.\n",
    "\n",
    "$$ \n",
    "det(\n",
    "\\begin{pmatrix}\n",
    "1 & 4\\\\\n",
    "1 & 5\\\\\n",
    "\\end{pmatrix} \n",
    "-\n",
    "\\lambda I)\n",
    "= \n",
    "0\n",
    "$$\n",
    "\n",
    "\n",
    "$$\n",
    "det\n",
    "\\begin{pmatrix}\n",
    "1-\\lambda & 4\\\\\n",
    "1         & 5 - \\lambda\\\\\n",
    "\\end{pmatrix}\n",
    "=\n",
    "0\n",
    "$$\n",
    "\n",
    "$$\n",
    "(1-\\lambda)(5-\\lambda) - 4 = 0 \\\\\n",
    "5 - \\lambda -5\\lambda + \\lambda ^2 = 0 \\\\\n",
    "\\lambda ^2 -6\\lambda +5 = 0 \\\\\n",
    "$$"
   ]
  },
  {
   "cell_type": "markdown",
   "id": "cd4a0c85",
   "metadata": {},
   "source": [
    "$$\n",
    "x = \\frac{6 +- \\sqrt{^2 - 4(1)5}}{2(5)} \\\\\n",
    "x = \\frac{6 +- \\sqrt{36 - 20}}{10} \\\\\n",
    "x = \\frac{6 +- 4}{10} \\\\\n",
    "\\lambda_1 = \\frac{2}{10} \\\\\n",
    "\\lambda_2 = 1\n",
    "$$"
   ]
  },
  {
   "cell_type": "markdown",
   "id": "8def0bc7",
   "metadata": {},
   "source": [
    "Now finding the eigenvectors x_1 and x_2...\n",
    "\n",
    "$$ \n",
    "\\begin{pmatrix}\n",
    "1 - 2/10 & 4\\\\\n",
    "1 & 5 - 2/10\\\\\n",
    "\\end{pmatrix} \n",
    "x_1\n",
    "= \n",
    "0 \\\\\n",
    "\\begin{pmatrix}\n",
    "0.8 & 4\\\\\n",
    "1 & 1.8\\\\\n",
    "\\end{pmatrix} \n",
    "x_1\n",
    "= \n",
    "0\n",
    "$$"
   ]
  },
  {
   "cell_type": "markdown",
   "id": "53a47ec4",
   "metadata": {},
   "source": [
    "$$\n",
    "1.8y = -1 \\\\\n",
    "y = -0.55 \\\\ \n",
    "0.8x + 4(-1/1.8) = 0 \\\\\n",
    "x  = -4(-1/1.8)/0.8 \\\\\n",
    "x = 2.77 \\\\\n",
    "x_1 =(2.77, -0.55)\n",
    "$$\n"
   ]
  },
  {
   "cell_type": "markdown",
   "id": "acf88e06",
   "metadata": {},
   "source": [
    "Now for egenvector $x_2$. \n",
    "$$ \n",
    "\\begin{pmatrix}\n",
    "1 - 1 & 4\\\\\n",
    "1 & 5 - 1\\\\\n",
    "\\end{pmatrix} \n",
    "x_1\n",
    "= \n",
    "0 \\\\\n",
    "\\begin{pmatrix}\n",
    "0 & 4\\\\\n",
    "1 & 4\\\\\n",
    "\\end{pmatrix} \n",
    "x_1\n",
    "= \n",
    "0\n",
    "$$"
   ]
  },
  {
   "cell_type": "markdown",
   "id": "c89fb611",
   "metadata": {},
   "source": [
    "x = (0, -1/4) "
   ]
  },
  {
   "cell_type": "markdown",
   "id": "223d9fce",
   "metadata": {},
   "source": [
    "$$\n",
    "(c)\n",
    "\\begin{pmatrix}\n",
    "0 & 0 & 3\\\\\n",
    "1 & 0 & 0\\\\\n",
    "0 & 2 & 0\\\\\n",
    "\\end{pmatrix} \n",
    "$$\n"
   ]
  },
  {
   "cell_type": "markdown",
   "id": "b3cabb5c",
   "metadata": {},
   "source": [
    "# Question 2."
   ]
  },
  {
   "cell_type": "markdown",
   "id": "7fbf2ffb",
   "metadata": {},
   "source": [
    "**Diagonalize the linear transformation $S : M_n (F ) → M_n (F )$ given by\n",
    "$S(A) = A^T$.**  \n",
    "\n",
    "Suppose the linear transformation $S : M_n (F ) → M_n (F )$ given by\n",
    "$S(A) = A^T$.\n",
    "\n",
    "We want to find the diagonalized linear transformation of S, call it $\\Lambda$, in $\\Lambda = X B X^{−1}$.  \n",
    "Where $X$ is a matrix with columns of eigenvectors, and $B$ is a matrix that represents the linear transformation $S$. \n",
    "\n",
    "Multiply bith sides by $\\Lambda$...  \n",
    "$$\n",
    "\\Lambda^2 = X B X^{−1}X B X^{−1} \\\\\n",
    "\\Lambda^2 = X B^2 X^{−1} \\\\\n",
    "$$\n",
    "\n",
    "Becasue $S(A) = A^T$, then B, the matrix representing S, has the propertiy$B^2 = I$. So...\n",
    "\n",
    "$$\n",
    "\\Lambda^2 = X B^2 X^{−1} \\\\\n",
    "\\Lambda^2 = X I X^{−1} \\\\\n",
    "\\Lambda^2 = X X^{−1} \\\\\n",
    "\\Lambda^2 = I \\\\\n",
    "$$\n",
    "\n",
    "honestly I wan't sure where to start with this one, and have no idea if I'm going down the right path.  \n",
    " "
   ]
  },
  {
   "cell_type": "markdown",
   "id": "8ebb74a3",
   "metadata": {},
   "source": [
    "# Questin 3."
   ]
  },
  {
   "cell_type": "markdown",
   "id": "44d62436",
   "metadata": {},
   "source": [
    "Given A ∈ M n (F ), the trace of A, or tr(A) is the number $A_{1, 1} + . . . + A_{n,n}$.\n",
    "\n",
    "**(a) Use the formula for matrix multiplication to explain why tr(AB) =\n",
    "tr(BA) for any A, B ∈ M n (F ).**\n",
    "\n",
    "The product of $AB$ can be described as every combination of the dot product of the rows of $A$ with the columns of $B$. So that the internal structure of $AB$ looks like.  \n",
    "\n",
    "$$\n",
    "AB = \n",
    "\\begin{pmatrix}\n",
    "|      & ... & |\\\\\n",
    "y_1^TA & ... & y_n^T A \\\\\n",
    "|      & ... & |\\\\\n",
    "\\end{pmatrix} \n",
    "$$\n",
    "\n",
    "where $y_1, ..., y_n$ are the columns of $B$.  \n",
    "This means the trace of $AB$ is $y_1^T x_1 + ... + y_n^T x_n$, where $x_1, ..., x_n$ are the rows of A. \n",
    "\n",
    "This does not seem like the right direction to go in....\n",
    "\n",
    "Just walking through a $(2x2)$ case. "
   ]
  },
  {
   "cell_type": "markdown",
   "id": "ca793596",
   "metadata": {},
   "source": [
    "$$\n",
    "tr(\n",
    "\\begin{pmatrix}\n",
    "a & b\\\\\n",
    "c & c\n",
    "\\end{pmatrix} \n",
    "\\begin{pmatrix}\n",
    "e & f\\\\\n",
    "g & h\n",
    "\\end{pmatrix}\n",
    ")\n",
    "=\n",
    "tr\n",
    "\\begin{pmatrix}\n",
    "ea+gb & fa+bh\\\\\n",
    "ec+gd & fc+dh\n",
    "\\end{pmatrix}\n",
    "=\n",
    "ea+gb+fc+dh\n",
    "$$\n",
    "\n",
    "$$\n",
    "tr(\n",
    "\\begin{pmatrix}\n",
    "e & f\\\\\n",
    "g & h\n",
    "\\end{pmatrix}\n",
    "\\begin{pmatrix}\n",
    "a & b\\\\\n",
    "c & c\n",
    "\\end{pmatrix} \n",
    ")\n",
    "=\n",
    "tr\n",
    "\\begin{pmatrix}\n",
    "ae+fc & be+de \\\\\n",
    "ag+ch & bg+hd\n",
    "\\end{pmatrix}\n",
    "=\n",
    "ae+fc+bg+hd\n",
    "$$\n",
    "\n",
    "I can begin to see how this will hold tru for an nXn but am not sure how to give a full *poof*."
   ]
  },
  {
   "cell_type": "markdown",
   "id": "4b84197c",
   "metadata": {},
   "source": [
    "**(b) Show explicitly that for any 2 matrix A, P A (x) = x 2 − tr(A)x + det(A).**"
   ]
  },
  {
   "cell_type": "markdown",
   "id": "e7b7faba",
   "metadata": {},
   "source": [
    "**(c) Suppose that A, B are similar matrices (so $B = X −1 AX$ for some 4X$).\n",
    "Explain why p A = p B.**"
   ]
  },
  {
   "cell_type": "markdown",
   "id": "54738e8a",
   "metadata": {},
   "source": [
    "**(d) Suppose that $A$ is a diagonalizable $n × n$ matrix. Explain why $p_A (x) =\n",
    "x^n − tr(A)x^{n−1} + a_{n−2} x^{n−1} + . . . + a_x + (−1)^n det(A)$.**"
   ]
  },
  {
   "cell_type": "markdown",
   "id": "b7c1d7b6",
   "metadata": {},
   "source": [
    "**(e) Express tr(A), set(A) and the other coefficients that appear in p A in\n",
    "terms of the eigenvalues of A.**"
   ]
  },
  {
   "cell_type": "markdown",
   "id": "51eb80d5",
   "metadata": {},
   "source": [
    "# Question 4."
   ]
  },
  {
   "cell_type": "markdown",
   "id": "556f5a37",
   "metadata": {},
   "source": [
    "In Chapter 6 of \"Introduction to Linear Algebra 4th edition\" by Strang, there is a section on matrix diagonalization and the Fibernachi sequence. He arranges the matrix $F$ as the transpose of what is stated in this question, and because of theis the vector it multiplies and produces is $(f_{n+1}, f_n)$ rather than $(f_{n}, f_{n+1})$\n",
    "\n",
    "**(a)** First we consider two elements in the Fibernachi sequence as a two element vector. Then the matrix $F$ represents taking one step in the fibernachi sequence. That is it adds the second row to the first row and swaps the position of the first row and second row (found by comparing it to the (2X2) identity matrix). So $F^n$ represents taking $n$ steps in the fibernachi sequence, starting from the vactor it multiplies. In this case the vector it multiplies, is the first and second steps in the fibernachi sequence. So it takes $n$ steps (exponent of $F^n$), and reaches the $n$ and $n+1$ postion.  "
   ]
  },
  {
   "cell_type": "markdown",
   "id": "8c33595b",
   "metadata": {},
   "source": [
    "**(b)** Diagonalizing F.\n",
    "\n",
    "$$\n",
    "det(\n",
    "\\begin{pmatrix}\n",
    "0 & 1\\\\\n",
    "1 & 1\\\\\n",
    "\\end{pmatrix} \n",
    "-\n",
    "\\lambda I)\n",
    "= \n",
    "0\n",
    "$$\n",
    "\n",
    "$$\n",
    "det\n",
    "\\begin{pmatrix}\n",
    "0-\\lambda & 1\\\\\n",
    "1 & 1-\\lambda\\\\\n",
    "\\end{pmatrix} \n",
    "= \n",
    "0\n",
    "$$\n",
    "\n",
    "$$\n",
    "(-\\lambda)(1-\\lambda) - 1 = 0\n",
    "$$\n",
    "\\\n",
    "Solving for lambda with the quadratic formula...\n",
    "$$\n",
    "\\lambda = \\frac{1+- \\sqrt{(-1)^2 - 4(1)(-1)}}{2(1)} = \\frac{1+- \\sqrt{5}}{2}\n",
    "$$\n",
    "\n",
    "So $\\lambda_1$ and $\\lambda_2$ are equal to the golden ration, and not the golden ration respectivly\n",
    ". "
   ]
  },
  {
   "cell_type": "markdown",
   "id": "d4212b0d",
   "metadata": {},
   "source": [
    "These corespond to the eigenvectors $(\\lambda_1, 1)$, and $(\\lambda_2, 1)$ Puting them into the columns of the matrix $S$ we get...\n",
    "$$\n",
    "S = \n",
    "\\begin{pmatrix}\n",
    "\\lambda_1 & \\lambda_2\\\\\n",
    "1 & 1\\\\\n",
    "\\end{pmatrix} \n",
    "$$\n",
    "\n",
    "To diagonalize we us $\\Lambda = S^{-1}FS$. \n",
    "The determinate of $S$ is $\\lambda_1 - \\lambda_2$. So...\n",
    "$$\n",
    "S^{-1} =\n",
    "\\frac{1}{\\lambda_1 - \\lambda_2}\n",
    "\\begin{pmatrix}\n",
    "1  & - \\lambda_2\\\\\n",
    "-1 & \\lambda_1\\\\\n",
    "\\end{pmatrix} \n",
    "$$\n",
    "\n",
    "To diagonalize I carry out the multiplication of  $\\Lambda = S^{-1}FS$...\n",
    "\n",
    "$$\n",
    "\\Lambda =\n",
    "\\frac{1}{\\lambda_1 - \\lambda_2}\n",
    "\\begin{pmatrix}\n",
    "1  & - \\lambda_2\\\\\n",
    "-1 & \\lambda_1\\\\\n",
    "\\end{pmatrix} \n",
    "\\begin{pmatrix}\n",
    "0 & 1\\\\\n",
    "1 & 1\\\\\n",
    "\\end{pmatrix} \n",
    "\\begin{pmatrix}\n",
    "\\lambda_1 & \\lambda_2\\\\\n",
    "1 & 1\\\\\n",
    "\\end{pmatrix} \n",
    "$$"
   ]
  },
  {
   "cell_type": "markdown",
   "id": "8a62c76d",
   "metadata": {},
   "source": [
    "\n",
    "\\begin{pmatrix}\n",
    "1 & 1\\\\\n",
    "\\lambda_1+1 & \\lambda_2 +1\\\\\n",
    "\\end{pmatrix} \n"
   ]
  },
  {
   "cell_type": "markdown",
   "id": "1f34bcb5",
   "metadata": {},
   "source": [
    "$$\n",
    "\\Lambda =\n",
    "\\frac{1}{\\lambda_1 - \\lambda_2}\n",
    "\\begin{pmatrix}\n",
    "1-\\lambda_2(\\lambda_1+1) & 1-\\lambda_2(\\lambda_2+1)\\\\\n",
    "-1 + \\lambda_1(\\lambda_1+1) & -1 + \\lambda_1(\\lambda_2+1) \\\\\n",
    "\\end{pmatrix}\n",
    "$$"
   ]
  },
  {
   "cell_type": "markdown",
   "id": "ceda2587",
   "metadata": {},
   "source": [
    "This turned into a nightmare. So I will stop here. "
   ]
  },
  {
   "cell_type": "markdown",
   "id": "d21aee55",
   "metadata": {},
   "source": [
    "**(c) Suppose that $A = X^{−1} DX$ for a diagonal matrix D. Show that for any\n",
    "n, $A^n = X^{−1}D^n X$. **\n",
    "\n",
    "Take $A = X^{−1} DX$. Multiply both sides by A and we get...\n",
    "$$\n",
    "A^2 = X^{−1} DXX^{−1} DX \\\\\n",
    "A^2 = X^{−1} DI DX \\\\\n",
    "A^2 = X^{−1} D^2X\n",
    "$$\n",
    "\n",
    "Now take $A^k = X^{−1} D^k$ where $k \\in \\mathbb{Z}$.  \n",
    "I will show that $A^k = X^{−1} D^k X \\implies A^{k+1} = X^{−1} D^{k+1}X$.  \n",
    "\n",
    "Suppose $A = X^{−1} D^k X$. \n",
    "Again, multiply both sides by A.   \n",
    "$$\n",
    "A^k A = X^{−1} D^k X A \\\\\n",
    "A^{k+1} = X^{−1} D^k X X^{−1} D X \\\\\n",
    "A^{k+1} = X^{−1} D^k D X \\\\\n",
    "A^{k+1} = X^{−1} D^{k+1} X\n",
    "$$\n",
    "Thus $A^k = X^{−1} D^k X \\implies A^{k+1} = X^{−1} D^{k+1}X$.  \n",
    "Therefore $A^n = X^{−1}D^nX$.  \n",
    "$\\blacksquare$"
   ]
  },
  {
   "cell_type": "markdown",
   "id": "043b3eba",
   "metadata": {},
   "source": [
    "**(d) Find an explicit formula for the number $f n$**"
   ]
  },
  {
   "cell_type": "markdown",
   "id": "a440d9ab",
   "metadata": {},
   "source": [
    "First, we want the combination of eigenvectors that gives $u_0$, where is $(f_{0}, f_{0-1}) = (1, 0)$.   \n",
    "\n",
    "$$\n",
    "\\begin{pmatrix}\n",
    "1 \\\\\n",
    "0 \\\\\n",
    "\\end{pmatrix} \n",
    "= \n",
    "(\\lambda_2 - \\lambda_1)\n",
    "(\n",
    "\\begin{pmatrix}\n",
    "\\lambda_2\\\\\n",
    "1\n",
    "\\end{pmatrix} \n",
    "-\n",
    "\\begin{pmatrix}\n",
    "\\lambda_2\\\\\n",
    "1\n",
    "\\end{pmatrix} \n",
    ")\n",
    "=\n",
    "\\frac{\\overline{x}_1 - \\overline{x}_2}\n",
    "{\\lambda_1 - \\lambda_1}\n",
    "=\n",
    "\\overline{u}_0\n",
    "$$\n",
    "\n"
   ]
  },
  {
   "cell_type": "markdown",
   "id": "285cd571",
   "metadata": {},
   "source": [
    "where $\\overline{x}_1$ and $\\overline{x}_2$ are the eigenvectors of $\\lambda_1$ and $\\lambda_2$. Since this is $u_0$, next we multiply by $F^n$, and take only the equation in the second element of the product, to get the n'th position. \n",
    "\n",
    "To reiterate (for myself in the future looking back on my homework), \n",
    "\n",
    "$$\n",
    "F^n u_0 = u_n \\\\\n",
    "S^{-1} \\Lambda^n S u_0 = u_n\n",
    "$$\n",
    "\n",
    "The second element of $u_n$ is what we want. \n",
    "\n",
    "$$\n",
    "\\frac{1}{\\lambda_1 - \\lambda_2}\n",
    "\\begin{pmatrix}\n",
    "1  & - \\lambda_2\\\\\n",
    "-1 & \\lambda_1\\\\\n",
    "\\end{pmatrix} \n",
    "\\Lambda^n\n",
    "\\begin{pmatrix}\n",
    "\\lambda_1 & \\lambda_2\\\\\n",
    "1 & 1\\\\\n",
    "\\end{pmatrix} \n",
    "\\begin{pmatrix}\n",
    "1 \\\\\n",
    "0 \n",
    "\\end{pmatrix}\n",
    "=\n",
    "u_n\n",
    "$$\n",
    "\n",
    "We get...\n",
    "$$\n",
    "u_n[2] = \\frac{\\lambda_1^n \\overline{x}_1 - \\lambda_2^n \\overline{x}_2}{\\lambda_1 - \\lambda_2}  \n",
    "$$\n",
    "\n",
    "*ref. Introduction to Linear Algebra 4th Edition - Strang pg. 332*\n",
    "\n",
    "I base my answer heavily off of what is in this textbook. I had difficulty following through witht the matrix arithmatic of $S^{-1} \\Lambda^n S u_0$, but think it is the correct way of comming to the solution.  \n",
    "\n",
    "P.S. There are key differences in what I provide and what is given in the text. "
   ]
  },
  {
   "cell_type": "markdown",
   "id": "45a36276",
   "metadata": {},
   "source": [
    "# Question 5."
   ]
  },
  {
   "cell_type": "markdown",
   "id": "16aa0542",
   "metadata": {},
   "source": [
    "For the example given in class only now it's $2 \\times 2$ and two colors. If we label the grid cells $x_1,...,x_4$, then \"pressing\" each cell, denoted $a, b, c, d$ respectivly, has the given efect on the grid...\n",
    "$$\n",
    "\\begin{pmatrix}\n",
    "x_1 \\\\\n",
    "x_2 \\\\\n",
    "x_3 \\\\\n",
    "x_4\n",
    "\\end{pmatrix}_0\n",
    "+\n",
    "a \n",
    "\\begin{pmatrix}\n",
    "1 \\\\\n",
    "1 \\\\\n",
    "1 \\\\\n",
    "0\n",
    "\\end{pmatrix}\n",
    "+\n",
    "b\n",
    "\\begin{pmatrix}\n",
    "1 \\\\\n",
    "1 \\\\\n",
    "0 \\\\\n",
    "1\n",
    "\\end{pmatrix}\n",
    "+\n",
    "c\n",
    "\\begin{pmatrix}\n",
    "1 \\\\\n",
    "0 \\\\\n",
    "1 \\\\\n",
    "1\n",
    "\\end{pmatrix}\n",
    "+\n",
    "d \n",
    "\\begin{pmatrix}\n",
    "0 \\\\\n",
    "1 \\\\\n",
    "1 \\\\\n",
    "1\n",
    "\\end{pmatrix}\n",
    "=\n",
    "\\begin{pmatrix}\n",
    "x_1 \\\\\n",
    "x_2 \\\\\n",
    "x_3 \\\\\n",
    "x_4\n",
    "\\end{pmatrix}_f\n",
    "$$\n"
   ]
  },
  {
   "cell_type": "markdown",
   "id": "0dd381a6",
   "metadata": {},
   "source": [
    "I denoted the begining and end state of the grid with a $0$ and $f$ subscript. "
   ]
  },
  {
   "cell_type": "markdown",
   "id": "ccbb0885",
   "metadata": {},
   "source": [
    "Then I made this into a 4X4 matrix, call it $A$."
   ]
  },
  {
   "cell_type": "markdown",
   "id": "c999072c",
   "metadata": {},
   "source": [
    "$$\n",
    "A = \n",
    "\\begin{pmatrix}\n",
    "1 & 1 & 1 & 0\\\\\n",
    "1 & 1 & 0 & 1\\\\\n",
    "1 & 0 & 1 & 1\\\\\n",
    "0 & 1 & 1 & 1\n",
    "\\end{pmatrix}\n",
    "$$"
   ]
  },
  {
   "cell_type": "markdown",
   "id": "cc58aa7f",
   "metadata": {},
   "source": [
    "I solve the determinate. I use cofactorization."
   ]
  },
  {
   "cell_type": "markdown",
   "id": "d7d85992",
   "metadata": {},
   "source": [
    "$$\n",
    "detA = (1)C_1 - (1)C_2 + 1(C_3) - (0)C_4\n",
    "$$"
   ]
  },
  {
   "cell_type": "markdown",
   "id": "b60a1d34",
   "metadata": {},
   "source": [
    "$$\n",
    "C_1 = 1(0) - 0 +1(-1) = -1 \\\\\n",
    "C_2 = 1(0) - 0 +1(1) = 1 \\\\\n",
    "C_3 = 1(-1) -1(1) + 1(1) = -1\n",
    "$$"
   ]
  },
  {
   "cell_type": "markdown",
   "id": "3b2457ed",
   "metadata": {},
   "source": [
    "$$\n",
    "detA = (1)(-1) - (1)(1) + 1(-1) = -1 - 1 -1 = -3\n",
    "$$"
   ]
  },
  {
   "cell_type": "markdown",
   "id": "364851a8",
   "metadata": {},
   "source": [
    "The product of the eigenvalues is equal to the determinate. I will go out on a limb and say that the greatest prime number, that results in a siolvable system is the determinate. "
   ]
  },
  {
   "cell_type": "markdown",
   "id": "9c6f2502",
   "metadata": {},
   "source": [
    "If we put the solution into a vector **b**, and the number of presses for each cell ($a, b, c,$ and $d$) into a vector **x** then our system is represented by...\n",
    "\n",
    "$$\n",
    "Ax = b\n",
    "$$\n",
    "\n",
    "This system has no solution when the $rank(A|b) \\not= rank(A)$. This will hold true as long as A is invertable, as it will be square, with rank equal to it's columns. Attaching another column (in this case **b**) will not increase or decrease the rank.  \n"
   ]
  },
  {
   "cell_type": "markdown",
   "id": "55615383",
   "metadata": {},
   "source": []
  },
  {
   "cell_type": "markdown",
   "id": "4f8f7e55",
   "metadata": {},
   "source": []
  },
  {
   "cell_type": "markdown",
   "id": "b6104116",
   "metadata": {},
   "source": []
  },
  {
   "cell_type": "markdown",
   "id": "2c7129cc",
   "metadata": {},
   "source": []
  }
 ],
 "metadata": {
  "kernelspec": {
   "display_name": "Python 3 (ipykernel)",
   "language": "python",
   "name": "python3"
  },
  "language_info": {
   "codemirror_mode": {
    "name": "ipython",
    "version": 3
   },
   "file_extension": ".py",
   "mimetype": "text/x-python",
   "name": "python",
   "nbconvert_exporter": "python",
   "pygments_lexer": "ipython3",
   "version": "3.9.15"
  }
 },
 "nbformat": 4,
 "nbformat_minor": 5
}
