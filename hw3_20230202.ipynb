{
 "cells": [
  {
   "cell_type": "markdown",
   "id": "8457eb32",
   "metadata": {},
   "source": [
    "**Question 1. For each of the following, give an example or explain why no such example\n",
    "exists.**  "
   ]
  },
  {
   "cell_type": "markdown",
   "id": "7b135fbb",
   "metadata": {},
   "source": [
    "\n",
    "**(a) A linear transformation $T : R^4 \\rightarrow R^3$ that is onto.**   \n",
    "\n",
    "In class we showed that $T$ is \"onto\" iff $Im(T) =W$, when $T: V \\rightarrow W$.  \n",
    "Here that would be $Im(T) = \\mathbb{R}^3$.  \n",
    "\n",
    "Yes, there does exsit a transformation $T$ that is \"onto\".  \n",
    "Let T be the projection...\n",
    "\n",
    "$$\n",
    "T:\n",
    "\\begin{pmatrix} \n",
    "x\\\\ \n",
    "y\\\\ \n",
    "z\\\\\n",
    "w\\\\\n",
    "\\end{pmatrix} \n",
    "\\rightarrow\n",
    "\\begin{pmatrix} \n",
    "x\\\\ \n",
    "y\\\\ \n",
    "z\\\\\n",
    "\\end{pmatrix} \n",
    "$$\n",
    "\n",
    "**(b) A linear transformation $T : R^4 \\rightarrow R^3$ that is one to one.**  \n",
    "\n",
    "In class we showed that $T$ is \"one to one\" iff $Ker(T) = \\overline{0}$. \n",
    "\n",
    "Let $A$ be a matrix that represents $T$ where $T: R^4 \\rightarrow R^3$.  \n",
    "The dimensions of $Ax = b$ are as follows...\n",
    "$$\n",
    "(3 \\times 4) (4 \\times 1) = (3 \\times 1)\n",
    "$$\n",
    "\n",
    "So then $A$ is a $(3 \\times 4)$ matrix. Becasue $A$ has 3 rows, $A$ can be at most rank 3. This means the nullspace is at least one dimensional. This is because the nullspace is $n - r$, where $r$ is the rank.   \n",
    "\n",
    "> Nullspace: at least 1 dimensional.  \n",
    "Left-nullsace: can contain only $\\overline{0}$.  \n",
    "Columnspace: at most 3  \n",
    "Rowspace: at most 3\n",
    "\n",
    "No, there does exsit a transformation $T$ that is \"one to one\", becasue the $Ker(T)$, i.e. the nullspace, is at least one dimensional (a line), and does not contain only the zero vector. This is true no matter what linear transformation $T$ we come up with. \n",
    "\n",
    "This is also why $T$ can be \"onto\" in the previous question. It's column space is equal to it's rank. Here, that can be at most $3$. So when $A$ is a rank $3$ matrices, then in would represent an onto relation. \n",
    "\n",
    "**(c) A linear transformation $T : R^3 \\rightarrow R^4$ that is onto.**  \n",
    "\n",
    "No, there does exsit a transformation $T$ that is \"onto\".  \n",
    "Let $A$ be a matrix that represents $T$ where $T: R^3 \\rightarrow R^4$.  \n",
    "The dimensions of Ax = b are as follows...\n",
    "$$\n",
    "(4 \\times 3) (3 \\times 1) = (4 \\times 1)\n",
    "$$\n",
    "\n",
    "So then $T$ is a $(4 \\times 3)$ matrix. It can be at most rank 3, and the dimensions of the column space, rowspace, and nullspaces are...  \n",
    "\n",
    "> Nullspace: can contain only $\\overline{0}$.  \n",
    "Left-nullsace: at least 1 dimensional.  \n",
    "Columnspace: at most 3  \n",
    "Rowspace: at most 3\n",
    "\n",
    "For the $Im(T)$ to equal $R^4$, the rowspace would need to be four dimensional. But the rowspace is at most 3 dimnesional, and it cannot equal the 4 dimensional space $R^4$. \n",
    "\n",
    "**(d) A linear transformation $T : R^3 \\rightarrow R^4$ that is one to one.**  \n",
    "\n",
    "Yes, there does exsit a transformation $T$ that is \"one to one\".  \n",
    "I can't cook a good one up, but when $T$ is represented by a rank 3 matrices, then the nullspace only contains $\\overline{0}$.   \n",
    "Heck, maybe the identity matrix with a spare column of all zeros? \n",
    "\n",
    "$$\n",
    "T = \n",
    "\\begin{pmatrix}\n",
    "1 & 0 & 0 & 0\\\\\n",
    "0 & 1 & 0 & 0\\\\\n",
    "0 & 0 & 1 & 0\\\\\n",
    "\\end{pmatrix} \n",
    "$$\n",
    "\n",
    "**(e) For every $i = 0, 1, 2, 3, 4$, a linear transformation $T : R^4 \\rightarrow R^4$ whose rank is $i$.**  \n",
    "\n",
    "For $T : R^4 \\rightarrow R^4$,  $Ax = b$ would be $(4 \\times 4)(4 \\times 1) = (4 \\times 1)$\n",
    "\n",
    "When T is rank 1:\n",
    "> Nullspace: 3  \n",
    "Left-nullsace: 3  \n",
    "Columnspace: 1  \n",
    "Rowspace: 1\n",
    "\n",
    "Cannot be onto. The image is one dimensional needs to be 4 dimensional.  \n",
    "Cannot be one to one the nullspace needs to only contain $\\overline{0}$, but it is 3 dimensional. \n",
    "\n",
    "When T is rank 2: \n",
    "> Nullspace: 2    \n",
    "Left-nullsace: 2    \n",
    "Columnspace: 2  \n",
    "Rowspace: 2  \n",
    "\n",
    "Cannot be onto. The image is 2 dimensional needs to be 4 dimensional.  \n",
    "Cannot be one to one the nullspace needs to only contain $\\overline{0}$, but it is 2 dimensional. \n",
    "\n",
    "When T is rank 3:\n",
    "> Nullspace: 1   \n",
    "Left-nullsace: 1   \n",
    "Columnspace: at most 3  \n",
    "Rowspace: at most 3  \n",
    "\n",
    "Cannot be onto. The image is 3 dimensional needs to be 4 dimensional.  \n",
    "Cannot be one to one the nullspace needs to only contain $\\overline{0}$, but it is 1 dimensional. \n",
    "\n",
    "When T is rank 4: \n",
    "> Nullspace: $\\overline{0}$  \n",
    "Left-nullsace: $\\overline{0}$  \n",
    "Columnspace: 4   \n",
    "Rowspace: 4\n",
    "\n",
    "Can be \"onto\". The image is 4 dimensional and it needs to be 4 dimensional.  \n",
    "Can be \"one to one\". The nullspace needs to only contain $\\overline{0}$, and it only contains $\\overline{0}$. \n",
    "\n",
    "Example: Let $T$ be represented by the multiplication of the identity matrix.  \n",
    "\n",
    "$$\n",
    "T = \n",
    "\\begin{pmatrix}\n",
    "1 & 0 & 0 & 0\\\\\n",
    "0 & 1 & 0 & 0\\\\\n",
    "0 & 0 & 1 & 0\\\\\n",
    "0 & 0 & 0 & 1\\\\\n",
    "\\end{pmatrix} \n",
    "$$\n",
    "\n",
    "This sends elements in $R^4$ to themselves. It is \"one to one\" and \"onto\". "
   ]
  },
  {
   "cell_type": "markdown",
   "id": "639de3f3",
   "metadata": {},
   "source": [
    "**Question 2.** Every year, $1$% in town $A$ move to town $B$, and $2$% of the people in town $B$ move to town $A$. In $2015$, there are $1000$ people living in each town. Find a matrix $M$ such that $M^n (1000, 1000)$ gives the number of people living in each town after n years."
   ]
  },
  {
   "cell_type": "markdown",
   "id": "955cb2c4",
   "metadata": {},
   "source": [
    "Let the vector..\n",
    "$$\n",
    "\\begin{pmatrix} 1000\\\\ 1000\\\\ \\end{pmatrix} \n",
    "=\n",
    "\\begin{pmatrix} \\text{population A in 2015}\\\\ \\text{population B in 2015} \\\\ \\end{pmatrix}\n",
    "$$ \n",
    "\n",
    "Then the matrix $M$, shown bellow, such that $M^n *(1000, 1000)$ gives the number of people living in each town after n years. \n",
    " \n",
    "$$\n",
    "M = \\begin{pmatrix}\n",
    "-1.01 & 1.02\\\\\n",
    "1.01 & -1.02\\\\\n",
    "\\end{pmatrix}\n",
    "$$"
   ]
  },
  {
   "cell_type": "markdown",
   "id": "30da0ee2",
   "metadata": {},
   "source": [
    "**Question 3.** Suppose $J \\in M_{n,n} (R)$ is a matrix satisfying $J_{i,j} = 1$ if $j − i = 1$, and $0$ otherwise. Calculate $J_k$ for every $k \\in \\mathbb{N}$."
   ]
  },
  {
   "cell_type": "markdown",
   "id": "3e9a79f5",
   "metadata": {},
   "source": [
    "Matrix $J$ is an $(n \\times n)$ matrix with a diagnol of 1's runnning just above its center diagnol. The $(4 \\times 4)$ is given below. \n",
    "$$\n",
    "J\\ = \\begin{pmatrix}\n",
    "0 & 1 & 0 & 0\\\\\n",
    "0 & 0 & 1 & 0\\\\\n",
    "0 & 0 & 0 & 1\\\\\n",
    "0 & 0 & 0 & 0\\\\\n",
    "\\end{pmatrix}\n",
    "$$\n",
    "\n",
    "As a test, I continue to square $J$ and look for any trends. I can see that it aprouches a matrices of $0$'s after $J^n$ where $n$ is the number of columns and rows. So for the $(4 \\times 4)$ case, J becomes a matrices of 0's at $n=4$, that is $J^4$. \n",
    "\n",
    "\n",
    "$$\n",
    "J^4\\\n",
    "= \n",
    "\\begin{pmatrix}\n",
    "0 & 1 & 0 & 0\\\\\n",
    "0 & 0 & 1 & 0\\\\\n",
    "0 & 0 & 0 & 1\\\\\n",
    "0 & 0 & 0 & 0\\\\\n",
    "\\end{pmatrix} \n",
    "\\begin{pmatrix}\n",
    "0 & 1 & 0 & 0\\\\\n",
    "0 & 0 & 1 & 0\\\\\n",
    "0 & 0 & 0 & 1\\\\\n",
    "0 & 0 & 0 & 0\\\\\n",
    "\\end{pmatrix} \n",
    "\\begin{pmatrix}\n",
    "0 & 1 & 0 & 0\\\\\n",
    "0 & 0 & 1 & 0\\\\\n",
    "0 & 0 & 0 & 1\\\\\n",
    "0 & 0 & 0 & 0\\\\\n",
    "\\end{pmatrix} \n",
    "\\begin{pmatrix}\n",
    "0 & 1 & 0 & 0\\\\\n",
    "0 & 0 & 1 & 0\\\\\n",
    "0 & 0 & 0 & 1\\\\\n",
    "0 & 0 & 0 & 0\\\\\n",
    "\\end{pmatrix} \n",
    "= \n",
    "$$\n",
    "\n",
    "$$\n",
    "\\begin{pmatrix}\n",
    "0 & 1 & 0 & 0\\\\\n",
    "0 & 0 & 1 & 0\\\\\n",
    "0 & 0 & 0 & 1\\\\\n",
    "0 & 0 & 0 & 0\\\\\n",
    "\\end{pmatrix} \n",
    "\\begin{pmatrix}\n",
    "0 & 1 & 0 & 0\\\\\n",
    "0 & 0 & 1 & 0\\\\\n",
    "0 & 0 & 0 & 1\\\\\n",
    "0 & 0 & 0 & 0\\\\\n",
    "\\end{pmatrix}\n",
    "\\begin{pmatrix}\n",
    "0 & 0 & 1 & 0\\\\\n",
    "0 & 0 & 0 & 1\\\\\n",
    "0 & 0 & 0 & 0\\\\\n",
    "0 & 0 & 0 & 0\\\\\n",
    "\\end{pmatrix} \n",
    "=\n",
    "$$\n",
    "\n",
    "$$\n",
    "\\begin{pmatrix}\n",
    "0 & 1 & 0 & 0\\\\\n",
    "0 & 0 & 1 & 0\\\\\n",
    "0 & 0 & 0 & 1\\\\\n",
    "0 & 0 & 0 & 0\\\\\n",
    "\\end{pmatrix} \n",
    "\\begin{pmatrix}\n",
    "0 & 0 & 0 & 1\\\\\n",
    "0 & 0 & 0 & 0\\\\\n",
    "0 & 0 & 0 & 0\\\\\n",
    "0 & 0 & 0 & 0\\\\\n",
    "\\end{pmatrix} \n",
    "=\n",
    "$$\n",
    "\n",
    "$$\n",
    "\\begin{pmatrix}\n",
    "0 & 0 & 0 & 0\\\\\n",
    "0 & 0 & 0 & 0\\\\\n",
    "0 & 0 & 0 & 0\\\\\n",
    "0 & 0 & 0 & 0\\\\\n",
    "\\end{pmatrix} \n",
    "$$\n"
   ]
  },
  {
   "cell_type": "markdown",
   "id": "3e578425",
   "metadata": {},
   "source": [
    "This gave me some insoght as to what J does in terms of elementary operations, and how J can be acheaved from the Identity matrix. That is, a permutation where the first row is moved to the last row (then multiplied by 0), and the remaning $n-1$ rows are moved upwards once. So using the permutation notation we learned in class recently, that would be $(2, 3, 4, ... ,n, 1)$. Again, the first row goes to the last position ($n$), and all other rows are bumped up once.\n",
    "\n",
    "Summary...  \n",
    "When $k \\geq n$, $J^k$ is a matrices of 0's.  \n",
    "When $k \\leq n$, $J^k$ will be a matrix of 0's and 1's with the one's running along the, $k+1$ column diagnol.  \n",
    "\n",
    "Thinking about the simplest case where n = 1, we have $J = (0)$. Here $k \\geq n$ for all values of $k \\in \\mathbb{N}$, and $J^k$ is a matrices containing only the element $0$. "
   ]
  },
  {
   "cell_type": "markdown",
   "id": "36f1f8bb",
   "metadata": {},
   "source": [
    "**Question 4.** Consider the following method of encrypting information: Take a text, and break it up into chunks of four characters. So ”linear algebra” turns into ”line” ”ar a” ”lgeb” ”ra ”. Convert each chunk into numbers by taking numbers $1-26$ for the letters a-z, numbers $27-36$ for the digits $0-9$ and number $0$ for the space character. Think of these numbers as elements of $F_{37}$ , and turn them into vectors. So ”abcd” would turn into $(1,2,3,4)$. Multiply the vectors by a matrix... \n",
    "$$\n",
    "key = \\begin{pmatrix}\n",
    "2 & 0 & 1 & 0\\\\\n",
    "0 & 1 & 0 & 1\\\\\n",
    "1 & 2 & 3 & 4\\\\\n",
    "5 & 4 & 3 & 2\\\\\n",
    "\\end{pmatrix}\n",
    "$$\n",
    "\n",
    "Then convert the numbers back to letters. Remember, the multiplication happens in the field $F_{37}$.  \n",
    "\n",
    "**Decode the following message: ”3sx ol0o”. How would you decode a message in general?**\n",
    "\n",
    "\n"
   ]
  },
  {
   "cell_type": "markdown",
   "id": "3a1ecc5d",
   "metadata": {},
   "source": [
    "First I sumarize encoding a message as described in the questin. \n",
    "> (1) break message in to 4 character chunks  \n",
    "  (2) convert the letters within each chunk to numbers in $F_{37}$   \n",
    "  (3) treat each chunk as a 4 element vector, and multiply that vector by the key (shown above).  \n",
    "  (4) convert this new encripted 4 element vector in $F_{37}$ back to letters.  \n",
    "  \n",
    "To decode an encripted message, I would do those steps in reverse, taking care to multiply by the inverse of the key, not the key it's self. To put on shoes, we put on socks, then put on shoes. To take off shoes, we take off shoes, then take off socks. Becasue this method is nearly semetric, the steps to decode a message are nearly identicle to encoding a message, only the inverse of the key is used. That is...\n",
    "$$\n",
    "key^{-1} = \\begin{pmatrix}\n",
    " 1 &  1 &  6 & 6\\\\\n",
    "36 & 18 &  3 & 22\\\\\n",
    "36 & 35 & 25 & 25\\\\\n",
    " 1 & 20 & 34 & 15\\\\\n",
    "\\end{pmatrix}\n",
    "$$\n",
    "                    \n",
    "I found the inverse key using the pyhtonj function `key.inv_mod(37)`. So to decode ”3sx ol0o” I would...\n",
    "> (1) break message in to 4 character chunks  \n",
    "  (2) convert the letters within each chunk to numbers in $F_{37}$   \n",
    "  (3) treat each chunk as a 4 element vector, and multiply that vector by the inverse of the key (shown above).  \n",
    "  (4) convert this new encripted 4 element vector in $F_{37}$ back to letters.  \n",
    "  (5) Paste the 4 character chunks back into one character string\n",
    "  \n",
    "Once again I did this problem in R. Below is the code I used. I will describe what the code does, then I will apply it to the encripted message ”3sx ol0o”. The results are gobble-de-gook, \"hnnettl2\", so I encripted my own test message, then decoded the test message. The script works on my message, so either the answer is actually gobble-de-gook, or I'm doing something wrong.  \n",
    "\n",
    "Anyhow, here's the code..."
   ]
  },
  {
   "cell_type": "code",
   "execution_count": null,
   "id": "1465688e",
   "metadata": {},
   "outputs": [],
   "source": [
    "lock = function(message, key){\n",
    "  # turn characters into numbers over field Z/37Z\n",
    "  elem = as.character(c(\" \", letters, as.character(0:9)))\n",
    "  nums = vector()\n",
    "  for(i in 1:length(message)) nums[i] = (which(elem == message[i]) - 1) %% 37\n",
    " \n",
    "  # splits code into 4 letter chunks\n",
    "  idx = rep(1:4, each = 4)\n",
    "  idx = idx[1:length(nums)]\n",
    "  chunks = split(nums, idx)\n",
    " \n",
    "  # function for scramble/unscramble with the key\n",
    "  scramble = function(bit, key) {\n",
    "    input = (key %*% bit) %% 37\n",
    "    input = input[,1]\n",
    "    input\n",
    "  }\n",
    " \n",
    "  # function to convert back to letters\n",
    "  lets = function(input, elem) elem[input + 1]\n",
    " \n",
    "  chunks = lapply(chunks, FUN = scramble, key = key)\n",
    "  chunks = lapply(chunks, FUN = lets, elem = elem)\n",
    " \n",
    "  # output character string\n",
    "  as.character(unlist(chunks))\n",
    "  }\n",
    "\n",
    "key = matrix(c(2,0,1,0,\n",
    "               0,1,0,1,\n",
    "               1,2,3,4,\n",
    "               5,4,3,2),\n",
    "             byrow = TRUE,\n",
    "             nrow = 4,\n",
    "             ncol = 4)\n",
    "\n",
    "# cant seem to get a good function for finding the inverse in Z/nZ for R so\n",
    "# I did it in python and just wrote the inv matrix in manually\n",
    "inv_key = matrix(c( 1,  1,  6,  6,\n",
    "                   36, 18,  3, 22,\n",
    "                   36, 35, 25, 25,\n",
    "                    1, 20, 34, 15),\n",
    "                 byrow = TRUE,\n",
    "                 nrow = 4,\n",
    "                 ncol = 4)"
   ]
  },
  {
   "cell_type": "markdown",
   "id": "3fd6ec33",
   "metadata": {},
   "source": [
    "Now I take the function, and apply it to the code ”3sx ol0o”. I name the encoded message scramble, and I name the the decoded message eggs.  "
   ]
  },
  {
   "cell_type": "code",
   "execution_count": null,
   "id": "d7ae3f9c",
   "metadata": {},
   "outputs": [],
   "source": [
    "scramble = c(\"3\", \"s\", \"x\", \" \", \"o\", \"l\", \"0\", \"o\")\n",
    "eggs = lock(message = scramble, key = inv_key)\n",
    "print(eggs)"
   ]
  },
  {
   "cell_type": "markdown",
   "id": "87e87b0e",
   "metadata": {},
   "source": [
    "**output:** \"h\" \"n\" \"n\" \"e\" \"t\" \"t\" \"l\" \"2\""
   ]
  },
  {
   "cell_type": "markdown",
   "id": "cc672ace",
   "metadata": {},
   "source": [
    "Again, this is not a word so I'm afraid I did something wrong. I test my script on a know message \"testcode\". I am able to both endoce the message and decode the message. "
   ]
  },
  {
   "cell_type": "code",
   "execution_count": null,
   "id": "a085ae31",
   "metadata": {},
   "outputs": [],
   "source": [
    "# That's not much of a message, so I test my script on a known message  \n",
    "eggs = c(\"t\", \"e\", \"s\", \"t\", \"c\", \"o\", \"d\", \"e\")\n",
    "scramble = lock(message = eggs, key = key)\n",
    "print(scramble)"
   ]
  },
  {
   "cell_type": "markdown",
   "id": "7ee7aedd",
   "metadata": {},
   "source": [
    "**output:** \"v\" \"y\" \"s\" \"5\" \"j\" \"t\" \"1\" \"w\""
   ]
  },
  {
   "cell_type": "code",
   "execution_count": null,
   "id": "085a6d58",
   "metadata": {},
   "outputs": [],
   "source": [
    "eggs = lock(message = scramble, key = inv_key)\n",
    "print(eggs)"
   ]
  },
  {
   "cell_type": "markdown",
   "id": "3846dcb8",
   "metadata": {},
   "source": [
    "**output:** \"t\" \"e\" \"s\" \"t\" \"c\" \"o\" \"d\" \"e\""
   ]
  },
  {
   "cell_type": "markdown",
   "id": "8db26cc7",
   "metadata": {},
   "source": [
    "Okay, I am able to retrieve my original message back. I wrote the script so that it can encode and decode messages of any length. This added a bit of complexity to the script, but it shows how to encode and decode messages generaly. Given more time, I would try coding messages with different keys. "
   ]
  },
  {
   "cell_type": "markdown",
   "id": "2a297324",
   "metadata": {},
   "source": [
    "**Question 5.** Let $T : V \\rightarrow W$, $S : W \\rightarrow U$ be linear transformations. Show that\n",
    "$rank(ST) ≤ rank S$ and $rank ST ≤ rank T$ . Now suppose that $U = V = W$ and that $B$ is invertible. Show that \n",
    "$rank(AB) = rank A$."
   ]
  },
  {
   "cell_type": "markdown",
   "id": "ba6b20ac",
   "metadata": {},
   "source": [
    "Here are three very informal proofs. So informal that they are not proofs. \n",
    "\n",
    "**(a) Show that $rank(ST) ≤ rank(S)$.**  \n",
    "\n",
    "Let the linear transformations $S$ and $T$ be represented by the matrices $A$ and $B$ respectivly.     \n",
    "Then $ST$ is represented by the matrices multiplication of $A \\times B$, where $B$ is performing column operations on $A$.  \n",
    "Here, $B$ is the linear transformation $T$. So the basis in the product of $A \\times B$ will be linear combinations of the basis of $A$.   \n",
    "If multiplying $A$ by $B$ would increase the number of basis in $A$, then $B$ could not be a linear transformation.  \n",
    "On the other hand, $B$ can decrease the number of basis in $A$, and still maintian it's statis as a linear transformantion.   \n",
    "Therefore the number of elements in the basis of $A \\times B$ cannot be greater than the number of elements in the basis of $A$.  \n",
    "In other words $rank(AB) ≤ rank(A)$.  \n",
    "In other, other words $rank(ST) ≤ rank(S)$. \n",
    "\n",
    "**(b) Show that $rank(ST) ≤ rank T$.** \n",
    "\n",
    "Same as before with slight variation.  \n",
    "Let the linear transformations $S$ and $T$ be represented by the matrices $A$ and $B$ respectivly.   \n",
    "Then $ST$ is represented by the matrices multiplication of $A \\times B$, where $A$ is performing row operations on $B$.  \n",
    "Here, $A$ is the linear transformation $S$. So the basis in the product of $A \\times B$ will be linear combinations of the basis of $B$.   \n",
    "If multiplying $A$ by $B$ would increase the number of basis in $B$, then $A$ could not be a linear transformation.  \n",
    "On the other hand, $A$ can decrease the number of basis in $B$, and still maintian it's statis as a linear transformantion.   \n",
    "Therefore the number of elements in the basis of $A \\times B$ cannot be greater than the number of elements in the basis of $B$.  \n",
    "In other words $rank(AB) ≤ rank(B)$.  \n",
    "In other, other words $rank(ST) ≤ rank(T)$.  \n",
    "\n",
    "**(c) suppose that $U = V = W$ and that $B$ is invertible. Show that $rank(AB) = rank A$.**\n",
    "\n",
    "Similar to before, $AB$ can only produce different basis than $A$, but it must obtain the same or less than the number of basis in $A$.    \n",
    "But, when $B$ is invertible, then all if it's columns and rows represent individual basis.    \n",
    "Furthermore, it has no rows or columns of all 0's, or dependent columns/rows (again, everything is a basis).    \n",
    "With that, it cannot decrease the number of basis in $A$.    \n",
    "So $B$ can only change the basis direction, but not decrease or increase the elements in the basis of $A$.  \n",
    "Therefore $rank(AB) = rank A$. \n"
   ]
  },
  {
   "cell_type": "markdown",
   "id": "14c7ac60",
   "metadata": {},
   "source": [
    "**Question 6.** In the city of Oddsville there were n citizens. The citizens were obsessed with participating in various clubs. The mayor of Oddsville felt that the citizen’s passion for forming clubs was getting out of hand. As a result, she 12 instituted two strange rules to curb the number of clubs. The first rule is that each club must have an odd number of members. The second rule is that every two different clubs must have an even number of members in common. Let m be the number of clubs in Oddsville. The mayor knew that with these rules, there couldn’t be more clubs than there were people, that is: m ≤ n, so these rules would prevent an excessive amount of clubs from forming. In this problem you’ll figure out why."
   ]
  },
  {
   "cell_type": "markdown",
   "id": "dcd4321a",
   "metadata": {},
   "source": [
    "(a) Name the citizens 1, 2, 3, . . . , n and the clubs C 1 , . . . , C m . Let A be the\n",
    "m × n matrix with coefficients in F 2 , the field with 2 elements defined\n",
    "by: A i,j = 1 if citizen j is in the club C i and 0 otherwise. Make a\n",
    "sample town with five citizens and three clubs. Assign each citizen to\n",
    "as many clubs as you want and make the matrix A corresponding to\n",
    "your example. Make an assignment of citizens to clubs that satisfies\n",
    "the mayor’s rules, and one that doesn’t."
   ]
  },
  {
   "cell_type": "markdown",
   "id": "fea5bab6",
   "metadata": {},
   "source": [
    "\n",
    "Below is a matrix $A$ that works...\n",
    "\n",
    "$$\n",
    "A = \n",
    "\\begin{pmatrix}\n",
    "1 & 1 & 1 & 0 & 0\\\\\n",
    "0 & 1 & 1 & 1 & 0\\\\\n",
    "0 & 0 & 0 & 0 & 1\\\\\n",
    "\\end{pmatrix} \n",
    "$$\n",
    "\n",
    "Below is a matrix $A$ that does not work.    \n",
    "\n",
    "$$\n",
    "A = \n",
    "\\begin{pmatrix}\n",
    "1 & 1 & 1 & 0 & 0\\\\\n",
    "0 & 1 & 1 & 0 & 0\\\\\n",
    "0 & 0 & 0 & 0 & 1\\\\\n",
    "\\end{pmatrix} \n",
    "$$\n",
    "\n",
    "There is an even number of people in the club of row 2..."
   ]
  },
  {
   "cell_type": "markdown",
   "id": "0ddf0d30",
   "metadata": {},
   "source": [
    "(b) Recall that A T denotes the transpose matrix of A. So A T is the n × m\n",
    "matrix with coefficients in F 2 such that A i,j = 1 if citizen i is in club\n",
    "C j and 0 otherwise. Write down the matrix A T for the example you\n",
    "gave in the previous part."
   ]
  },
  {
   "cell_type": "markdown",
   "id": "05872736",
   "metadata": {},
   "source": [
    "$$\n",
    "A^T = \n",
    "\\begin{pmatrix}\n",
    "1 & 0 & 0\\\\\n",
    "1 & 1 & 0\\\\\n",
    "1 & 1 & 0\\\\\n",
    "0 & 1 & 0\\\\\n",
    "0 & 0 & 1\\\\\n",
    "\\end{pmatrix} \n",
    "$$"
   ]
  },
  {
   "cell_type": "markdown",
   "id": "09d02dd6",
   "metadata": {},
   "source": [
    "(c) Let P B = AA . This is an m × m matrix whose (i, j) coordinate is A i,k A kj, . Go over the formula for matrix multiplication and make k=1 n sure that you understand how B i,j was calculated."
   ]
  },
  {
   "cell_type": "markdown",
   "id": "fdccc7e4",
   "metadata": {},
   "source": [
    "$$\n",
    "B = \n",
    "A^T A = \n",
    "\\begin{pmatrix}\n",
    "1 & 0 & 0\\\\\n",
    "1 & 1 & 0\\\\\n",
    "1 & 1 & 0\\\\\n",
    "0 & 1 & 0\\\\\n",
    "0 & 0 & 1\\\\\n",
    "\\end{pmatrix} \n",
    "\\times\n",
    "\\begin{pmatrix}\n",
    "1 & 1 & 1 & 0 & 0\\\\\n",
    "0 & 1 & 1 & 0 & 0\\\\\n",
    "0 & 0 & 0 & 0 & 1\\\\\n",
    "\\end{pmatrix} \n",
    "=\n",
    "\\begin{pmatrix}\n",
    "3 & 2 & 0\\\\\n",
    "2 & 3 & 0\\\\\n",
    "0 & 0 & 1\\\\\n",
    "\\end{pmatrix} \n",
    "=\n",
    "B \\text{ not in } F_2\n",
    "$$\n",
    "$$\n",
    "B \\text{ in } F_2 = \n",
    "\\begin{pmatrix}\n",
    "1 & 0 & 0\\\\\n",
    "0 & 1 & 0\\\\\n",
    "0 & 0 & 1\\\\\n",
    "\\end{pmatrix} \n",
    "=\n",
    "I\n",
    "$$"
   ]
  },
  {
   "cell_type": "markdown",
   "id": "caeb9215",
   "metadata": {},
   "source": [
    "I get how B is calculated. It's the dot product of every column in $A^T$ with every row in $A$. The dot product represents how many member each club has in common with the other. That is, when the vectors are orthogonal,the dot product is 0, meaning the clubs have no members in common.   \n",
    "\n",
    "So when $B$ is not in $F_2$, but say $R$, then each element in $B$ represents how many people the two clubs have in common. So the diagonal is the total people in each club, and the off diagnols are the total number of their related members.   "
   ]
  },
  {
   "cell_type": "markdown",
   "id": "56331eab",
   "metadata": {},
   "source": [
    "(d) Explain why the mayor’s rules imply that B = I m ."
   ]
  },
  {
   "cell_type": "markdown",
   "id": "fb1ab6be",
   "metadata": {},
   "source": [
    "\n",
    "Elements of $B$ represent the total number of members that are shared between clubs $C_i$ and $C_j$ where $i$ and $j$ are the row and column numbers respectivly. So the diagnols, $C_{1,1}, C_{2,2}, C_{3,3}$ represent the total members in clubs $C_1, C_2, C_3$. The off diagnos represent how many members the clubs have in common with eachother.  \n",
    "\n",
    "The diagnols of $B$ will then be odd. This is because of rule 1. All clubs must have an odd number of members.  \n",
    "The off-diagnols of $B$ will be even. This is caused by rule two, every two different clubs must have an even number of members in common.  \n",
    "\n",
    "When $B$ is in $F_2$, the even numbers are sent to $0$ and the odd numbers are sent to $1$. So the diagnol is all $1$'s, and the off diagnos are all $0$'s. That's the identity matrix.   "
   ]
  },
  {
   "cell_type": "markdown",
   "id": "6d7f2d1d",
   "metadata": {},
   "source": [
    "(e) Explain why this means that Rank(B) = m."
   ]
  },
  {
   "cell_type": "markdown",
   "id": "2c92ad34",
   "metadata": {},
   "source": [
    "$B$ is an $(m \\times m)$ matrix created from the multiplication of a $(m \\times n)$ and $(n \\times m)$ matrix. As described in question (6d), B is the identity matrix. So it is inverstible. It has a number of unique basis equal to it's number of rows, $m$. So be is rank $m$.   "
   ]
  },
  {
   "cell_type": "markdown",
   "id": "c9c4ec03",
   "metadata": {},
   "source": [
    "(f) Show that Rank(A) ≥ m (Hint: use problem 5)."
   ]
  },
  {
   "cell_type": "markdown",
   "id": "bfcdf742",
   "metadata": {},
   "source": [
    "As described in (e), the multiplication of $A^TA$ produces the Identity matrix of rank $m$, with $m$ basis. In $A^TA$ the matrix $A^T$ is performing row operations on the matrix $A$. So the product cannot have more unique basis than $A$, because all basis in the product will be linear combinations of basis in $A$. We know that the product of $A^TA$ has $m$ basis, so $rank(A) \\geq m$"
   ]
  },
  {
   "cell_type": "markdown",
   "id": "464bdfa9",
   "metadata": {},
   "source": [
    "(g) Explain why Rank(A) ≤ n (Hint: it has n columns )."
   ]
  },
  {
   "cell_type": "markdown",
   "id": "17e3dfd9",
   "metadata": {},
   "source": [
    "$A$ is a $(m \\times n)$ matrix. In (f) we explain that $rank (A) \\geq m$. $A$ has $n$ columns, and it cannot contain more basis than it does columns. So $rank(A) \\leq n$.  "
   ]
  },
  {
   "cell_type": "markdown",
   "id": "46196c81",
   "metadata": {},
   "source": [
    "(h) Deduce that m ≤ n, as required."
   ]
  },
  {
   "cell_type": "markdown",
   "id": "93ccc133",
   "metadata": {},
   "source": [
    "In (f) we showed $rank(A) \\geq m$. In (g) we showed $rank(A) \\leq n$.  \n",
    "So then $m \\leq rank(A) \\leq n$. Therefore $m \\leq n$. "
   ]
  },
  {
   "cell_type": "markdown",
   "id": "2bfe4b24",
   "metadata": {},
   "source": []
  }
 ],
 "metadata": {
  "kernelspec": {
   "display_name": "Python 3 (ipykernel)",
   "language": "python",
   "name": "python3"
  },
  "language_info": {
   "codemirror_mode": {
    "name": "ipython",
    "version": 3
   },
   "file_extension": ".py",
   "mimetype": "text/x-python",
   "name": "python",
   "nbconvert_exporter": "python",
   "pygments_lexer": "ipython3",
   "version": "3.9.15"
  }
 },
 "nbformat": 4,
 "nbformat_minor": 5
}
